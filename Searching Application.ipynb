{
 "cells": [
  {
   "cell_type": "code",
   "execution_count": 1,
   "id": "62115f98",
   "metadata": {},
   "outputs": [
    {
     "name": "stderr",
     "output_type": "stream",
     "text": [
      "[nltk_data] Downloading package stopwords to\n",
      "[nltk_data]     /Users/prashantharipirala/nltk_data...\n",
      "[nltk_data]   Unzipping corpora/stopwords.zip.\n"
     ]
    },
    {
     "data": {
      "text/plain": [
       "True"
      ]
     },
     "execution_count": 1,
     "metadata": {},
     "output_type": "execute_result"
    }
   ],
   "source": [
    "# Import Libraries\n",
    "import pymongo\n",
    "import json\n",
    "import time\n",
    "from datetime import datetime\n",
    "import mysql.connector as cnx\n",
    "import pickle\n",
    "import os\n",
    "import csv\n",
    "from nltk.corpus import stopwords\n",
    "import nltk\n",
    "nltk.download('stopwords')"
   ]
  },
  {
   "cell_type": "code",
   "execution_count": 2,
   "id": "7f9b4960",
   "metadata": {},
   "outputs": [],
   "source": [
    "# connect to mysql server\n",
    "mydb = cnx.connect(\n",
    "  host=\"localhost\",\n",
    "  user=\"root\",\n",
    "  password=\"root@123\",\n",
    "  database=\"mydatabase\"\n",
    ")\n",
    "\n",
    "mycursor = mydb.cursor(buffered=True)"
   ]
  },
  {
   "cell_type": "code",
   "execution_count": 3,
   "id": "3a7cff73",
   "metadata": {},
   "outputs": [],
   "source": [
    "#connect to mongodb\n",
    "client = pymongo.MongoClient(\"mongodb://localhost:27017/\") \n",
    "db = client[\"Tweets_DB\"]\n",
    "tweets_collec = db[\"Tweets_data\"]"
   ]
  },
  {
   "cell_type": "code",
   "execution_count": 4,
   "id": "7ad09098",
   "metadata": {},
   "outputs": [],
   "source": [
    "class Cache:\n",
    "    def __init__(self, max_size=15000, evict_strategy='least_accessed', checkpoint_interval=30, ttl=None):\n",
    "        self.max_size = max_size\n",
    "        self.evict_strategy = evict_strategy\n",
    "        self.checkpoint_interval = checkpoint_interval\n",
    "        self.ttl = ttl\n",
    "        self.cache = {}\n",
    "        self.access_count = {}\n",
    "        self.last_checkpoint = time.time()\n",
    "    \n",
    "        if os.path.exists('cache.checkpoint'):\n",
    "            self.load_from_checkpoint('cache.checkpoint')\n",
    "\n",
    "    def load_from_checkpoint(self, checkpoint_file):\n",
    "        with open(checkpoint_file, 'rb') as f:\n",
    "            self.cache, self.access_count = pickle.load(f)\n",
    "\n",
    "    def save_to_checkpoint(self, checkpoint_file):\n",
    "        with open(checkpoint_file, 'wb') as f:\n",
    "            pickle.dump((self.cache, self.access_count), f)\n",
    "            \n",
    "    def get(self, key):\n",
    "        \n",
    "        if key[0].isdigit() or key.startswith('#'):\n",
    "            if key not in self.cache:\n",
    "                return None\n",
    "            similar_keys = [key]\n",
    "            \n",
    "        else:\n",
    "            similar_keys = []\n",
    "            for k in self.cache:\n",
    "                if key in k:\n",
    "                    similar_keys.append(k)\n",
    "\n",
    "            if len(similar_keys) == 0:\n",
    "                return None\n",
    "        \n",
    "        if self.ttl is not None and (time.time() - self.cache[key]['timestamp']) > self.ttl:\n",
    "            del self.cache[key]\n",
    "            del self.access_count[key]\n",
    "            return None\n",
    "        \n",
    "        for i in similar_keys:\n",
    "            self.access_count[i] += 1\n",
    "            \n",
    "            if self.evict_strategy == 'least_accessed':\n",
    "                least_accessed_key = min(self.access_count, key=self.access_count.get)\n",
    "                if len(self.cache) > self.max_size and key != least_accessed_key:\n",
    "                    del self.cache[least_accessed_key]\n",
    "                    del self.access_count[least_accessed_key]\n",
    "                \n",
    "        return [self.cache[k]['value'] for k in similar_keys]\n",
    "\n",
    "    def put(self, key, value):\n",
    "        if not key.startswith('#'):\n",
    "            key = key.lower()\n",
    "        self.cache[key] = {'value': value, 'timestamp': time.time()}\n",
    "        self.access_count[key] = 0\n",
    "        if len(self.cache) > self.max_size:\n",
    "            if self.evict_strategy == 'least_accessed':\n",
    "                least_accessed_key = min(self.access_count, key=self.access_count.get)\n",
    "                del self.cache[least_accessed_key]\n",
    "                del self.access_count[least_accessed_key]\n",
    "            elif self.evict_strategy == 'oldest':\n",
    "                oldest_key = min(self.cache, key=lambda k: self.cache[k]['timestamp'])\n",
    "                del self.cache[oldest_key]\n",
    "                del self.access_count[oldest_key]\n",
    "                \n",
    "        if (time.time() - self.last_checkpoint) > self.checkpoint_interval:\n",
    "            self.save_to_checkpoint('cache.checkpoint')\n",
    "            self.last_checkpoint = time.time()\n",
    "            \n",
    "    def print_cache(self):\n",
    "        print('Cache:')\n",
    "        for key, value in self.cache.items():\n",
    "            print(f\"{key}\")\n",
    "        used_space = len(self.cache)\n",
    "        remaining_space = self.max_size - used_space\n",
    "        print(f\"Cache size: {used_space}\")\n",
    "        print(f\"Remaining space: {remaining_space}\")"
   ]
  },
  {
   "cell_type": "code",
   "execution_count": 5,
   "id": "efb306a2",
   "metadata": {},
   "outputs": [],
   "source": [
    "cache = Cache()"
   ]
  },
  {
   "cell_type": "code",
   "execution_count": 6,
   "id": "05dd424f",
   "metadata": {},
   "outputs": [],
   "source": [
    "# get tweet counte per each user\n",
    "def count_tweets_per_user():\n",
    "    tweet_counts = {}\n",
    "    cursor = tweets_collec.aggregate([\n",
    "        {\"$group\": {\"_id\": \"$User_Id\", \"count\": {\"$sum\": 1}}}\n",
    "    ])\n",
    "    for user in cursor:\n",
    "        tweet_counts[user['_id']] = user['count']\n",
    "    return tweet_counts"
   ]
  },
  {
   "cell_type": "code",
   "execution_count": 7,
   "id": "25d8282d",
   "metadata": {},
   "outputs": [],
   "source": [
    "# write the results to a csv file to load it into mysql database\n",
    "def write_tweets_to_csv(filename, tweets_dict):\n",
    "    with open(filename, 'w', newline='') as file:\n",
    "        writer = csv.writer(file)\n",
    "        writer.writerow(['User_ID', 'Tweets_Count'])\n",
    "        for user_id, count in tweets_dict.items():\n",
    "            writer.writerow([str(user_id), count])"
   ]
  },
  {
   "cell_type": "code",
   "execution_count": 8,
   "id": "08478a9a",
   "metadata": {},
   "outputs": [],
   "source": [
    "tweets_dict = count_tweets_per_user()\n",
    "write_tweets_to_csv('tweets_counts.csv', tweets_dict)"
   ]
  },
  {
   "cell_type": "code",
   "execution_count": 9,
   "id": "93caba75",
   "metadata": {},
   "outputs": [],
   "source": [
    "# check if the search term starts with '@'\n",
    "def UserSearch(search_term):\n",
    "    \n",
    "    if search_term.startswith('@'):\n",
    "    # remove the '@' symbol from the search term\n",
    "        search_term = search_term[1:]\n",
    "        \n",
    "        if cache.get(search_term):\n",
    "            print(\"getting\")\n",
    "            results = cache.get(search_term)\n",
    "            \n",
    "        else:\n",
    "            print(\"putting\")\n",
    "            # execute the query to search for user details based on username\n",
    "            query = \"\"\"\n",
    "                SELECT * FROM users \n",
    "                WHERE name LIKE %s \n",
    "                ORDER BY followers_count DESC, tweets_count DESC, verified DESC\n",
    "                LIMIT 5\n",
    "                \"\"\"\n",
    "            mycursor.execute(query, ('%' + search_term + '%',))\n",
    "            results = mycursor.fetchall()\n",
    "            for i in range(0,len(results)):\n",
    "                cache.put(results[i][1], results[i])\n",
    "\n",
    "        return results"
   ]
  },
  {
   "cell_type": "code",
   "execution_count": 10,
   "id": "b6d26bc9",
   "metadata": {},
   "outputs": [],
   "source": [
    "def get_user_tweets(user_id):\n",
    "    \n",
    "    if cache.get(user_id):\n",
    "        print(\"getting tweet\")\n",
    "        tweet_details = cache.get(user_id)\n",
    "    \n",
    "    else:\n",
    "        print(\"putting tweet\")\n",
    "        \n",
    "        user_tweets = list(tweets_collec.find({'User_Id': user_id}).sort([('created_at', -1)]).limit(3))\n",
    "        tweet_details = []\n",
    "        \n",
    "        for tweet in user_tweets:\n",
    "            tweet_details.append({\n",
    "                'created_at': tweet['created_at'],\n",
    "                'text': tweet['Text'],\n",
    "                'hashtags': tweet['Hashtag'],\n",
    "                'retweet_count': tweet['Retweet_Count'],\n",
    "                'likes_count': tweet['Likes_Count']\n",
    "            })\n",
    "        \n",
    "        cache.put(user_id, tweet_details)\n",
    "    return tweet_details"
   ]
  },
  {
   "cell_type": "code",
   "execution_count": 11,
   "id": "a00e085a",
   "metadata": {},
   "outputs": [],
   "source": [
    "def UserPrint(results):\n",
    "    for result in results:\n",
    "        user_id = result[0]\n",
    "        tweets_cache[user_id] = get_user_tweets(user_id)\n",
    "        if result[3]==1:\n",
    "            verified_status=\"✅\"\n",
    "        else:\n",
    "            verified_status=\"❌\"\n",
    "            /\n",
    "        line1 = \"Name: {} | Verified: {}\".format(result[1], verified_status)\n",
    "        # format the remaining fields in another line\n",
    "        line2 = \"Followers: {} | Tweets: {}\".format(result[4], result[8])\n",
    "        line3 = \"Description : {}\".format(result[9])\n",
    "        line4=\"Location : {} | Creation Date:{}\".format(result[7],result[6])\n",
    "        \n",
    "        # print both lines\n",
    "        print(line1)\n",
    "        print(line2)\n",
    "        print(line3)\n",
    "        print(line4)\n",
    "        print(\"--------------------------------------------\")"
   ]
  },
  {
   "cell_type": "code",
   "execution_count": 28,
   "id": "b0abbb06",
   "metadata": {},
   "outputs": [
    {
     "name": "stdout",
     "output_type": "stream",
     "text": [
      "Enter the search term: @sai\n",
      "getting\n",
      "getting tweet\n",
      "Name: Rajdeep Sardesai | Verified: ✅\n",
      "Followers: 8947331 | Tweets: 7\n",
      "Description : Citizen first. Only 'ism' is humanism. newsman, tv anchor, author, father, friend. New book: 2019: How Modi Won India. pre order here: http://bit.ly/HowModiWon\n",
      "Location : New Delhi | Creation Date:2009-07-13 06:14:44\n",
      "--------------------------------------------\n",
      "getting tweet\n",
      "Name: Saint Laurent Don | Verified: ✅\n",
      "Followers: 3691645 | Tweets: 1\n",
      "Description : SavageMode\n",
      "Location : Atlanta, GA | Creation Date:2011-03-03 06:42:26\n",
      "--------------------------------------------\n",
      "getting tweet\n",
      "Name: Syed Talat Hussain | Verified: ✅\n",
      "Followers: 3348942 | Tweets: 1\n",
      "Description : Journalist, writer, obsessive jogger, voracious reader, massive meat-eater\n",
      "Location : Islamabad | Creation Date:2011-04-22 07:21:57\n",
      "--------------------------------------------\n",
      "Load more results? (yes/no) y\n",
      "getting tweet\n",
      "Name: Syed Shahnawaz Hussain | Verified: ✅\n",
      "Followers: 1731505 | Tweets: 2\n",
      "Description : National Spokesperson, BJP & Former Union Minister, Government of India.\n",
      "Location : New Delhi, India | Creation Date:2011-08-07 07:33:35\n",
      "--------------------------------------------\n",
      "getting tweet\n",
      "Name: Husain Haqqani | Verified: ✅\n",
      "Followers: 379436 | Tweets: 1\n",
      "Description : Director (South & Central Asia) Hudson Institute. Pakistan ambassador to US 2008-2011. Author of 'Pakistan Between Mosque & Military' & 'Magnificent Delusions'\n",
      "Location : Washington, DC | Creation Date:2009-10-06 15:37:09\n",
      "--------------------------------------------\n",
      "Enter the number of the user whose tweets you want to see: 2\n",
      "Tweets of Saint Laurent Don:\n",
      "[{'created_at': '2020-04-15 02:04:19', 'text': 'Bang outside I hang outside \\ndon’t come out da house cuz corona outside', 'hashtags': [], 'retweet_count': 5, 'likes_count': 238052}]\n",
      "Time for getting user info:  0.00027079100254923105\n",
      "Time for getting tweets info:  0.00021925001055933535\n"
     ]
    }
   ],
   "source": [
    "search_term = input(\"Enter the search term: \")\n",
    "\n",
    "start_sql = time.perf_counter()\n",
    "results=UserSearch(search_term)\n",
    "end_sql = time.perf_counter()\n",
    "\n",
    "sql_time = end_sql - start_sql\n",
    "\n",
    "\n",
    "start_mongo = time.perf_counter()\n",
    "tweets_cache = {}\n",
    "UserPrint(results[:3])\n",
    "end_mongo = time.perf_counter()\n",
    "mongo_time = end_mongo - start_mongo\n",
    "\n",
    "    # check if there are more results\n",
    "if len(results) > 3:\n",
    "        # prompt the user to load more results\n",
    "    load_more = input(\"Load more results? (yes/no) \")\n",
    "    if load_more.lower().startswith('y'):\n",
    "        UserPrint(results[3:5])\n",
    "user_choice = int(input(\"Enter the number of the user whose tweets you want to see: \"))\n",
    "\n",
    "# Get the user_id of the selected user\n",
    "user_id = results[user_choice-1][0]\n",
    "\n",
    "# Display the tweets of the selected user\n",
    "\n",
    "if user_id in tweets_cache:\n",
    "    print(f\"Tweets of {results[user_choice-1][1]}:\")\n",
    "    for tweet in tweets_cache[user_id]:\n",
    "        print(tweet)\n",
    "else:\n",
    "    print(\"No tweets found for the selected user.\")\n",
    "    \n",
    "print(\"Time for getting user info: \", sql_time)\n",
    "print(\"Time for getting tweets info: \", mongo_time)"
   ]
  },
  {
   "cell_type": "code",
   "execution_count": 13,
   "id": "73dd0283",
   "metadata": {},
   "outputs": [],
   "source": [
    "# Search by hashtag"
   ]
  },
  {
   "cell_type": "code",
   "execution_count": 14,
   "id": "0bdd7703",
   "metadata": {},
   "outputs": [],
   "source": [
    "def get_top_hashtags(search_string, limit=5):\n",
    "    \n",
    "    if search_string.startswith('#'):\n",
    "        search_string = search_string[1:]\n",
    "        \n",
    "        hashtags = tweets_collec.aggregate([\n",
    "        { \"$match\": { \"Hashtag\": { \"$regex\": search_string, \"$options\": \"i\" } } },\n",
    "        { \"$unwind\": \"$Hashtag\" },\n",
    "        { \"$group\": { \"_id\": \"$Hashtag\", \"count\": { \"$sum\": 1 } } },\n",
    "        { \"$sort\": { \"count\": -1 } },\n",
    "        { \"$limit\": limit }\n",
    "        ])\n",
    "        \n",
    "        hashtag_dict = {}\n",
    "        for hashtag in hashtags:\n",
    "            hashtag_dict[hashtag['_id']] = hashtag['count']\n",
    "            \n",
    "        return hashtag_dict"
   ]
  },
  {
   "cell_type": "code",
   "execution_count": 15,
   "id": "81771c59",
   "metadata": {},
   "outputs": [],
   "source": [
    "def tweets_of_hashtag(hashtag):\n",
    "    \n",
    "    if cache.get('#' + hashtag):\n",
    "        tweets = cache.get(hashtag)[0]\n",
    "    else:\n",
    "        tweets = list(tweets_collec.find({'Hashtag': hashtag}).sort('created_at', -1).limit(3))\n",
    "        cache.put('#' + hashtag, tweets)\n",
    "    \n",
    "    return tweets"
   ]
  },
  {
   "cell_type": "code",
   "execution_count": 16,
   "id": "6f65463b",
   "metadata": {},
   "outputs": [],
   "source": [
    "def Hashtag_print(hashtags):\n",
    "    print()\n",
    "    print(\"Top 5 hashtags matching the search string: \")\n",
    "    print()\n",
    "    for k,v in hashtags.items():\n",
    "        print(\"------------------------------------------\")\n",
    "        print(\"Hashtag: {} | Tweets Count: {}\\n\".format(k, v))\n",
    "    \n",
    "    for hashtag in hashtags.keys():\n",
    "        temp_hashtag[hashtag] = tweets_of_hashtag(hashtag)"
   ]
  },
  {
   "cell_type": "code",
   "execution_count": 29,
   "id": "43a4ebba",
   "metadata": {},
   "outputs": [
    {
     "name": "stdout",
     "output_type": "stream",
     "text": [
      "Enter the hashtag: #corona\n",
      "\n",
      "Top 5 hashtags matching the search string: \n",
      "\n",
      "------------------------------------------\n",
      "Hashtag: Corona | Tweets Count: 5920\n",
      "\n",
      "------------------------------------------\n",
      "Hashtag: corona | Tweets Count: 1928\n",
      "\n",
      "------------------------------------------\n",
      "Hashtag: coronavirus | Tweets Count: 825\n",
      "\n",
      "------------------------------------------\n",
      "Hashtag: COVID19 | Tweets Count: 572\n",
      "\n",
      "------------------------------------------\n",
      "Hashtag: Covid_19 | Tweets Count: 503\n",
      "\n",
      "\n",
      "Enter the hashtag whose tweets you want to see: corona\n",
      "\n",
      "Tweets of corona:\n",
      "----------------------------------------------------------------------------------\n",
      "\n",
      "User: ᴠɪʀᴇɴ ꜱʜᴀʀᴍᴀ | Retweets: 0 | Likes: 0 | Created at: 2020-04-25 14:48:34\n",
      "Text: RT @shefali_bagga: Chalo use this sound and tag me #sanitizer #corona #lockdown #SocialDistancing #quarantine https://t.co/2Hiir1U2VC\n",
      "Hashtags: ['sanitizer', 'corona', 'lockdown', 'SocialDistancing', 'quarantine']\n",
      "----------------------------------------------------------------------------------\n",
      "\n",
      "User: SWR Sport | Retweets: 0 | Likes: 0 | Created at: 2020-04-25 14:48:24\n",
      "Text: Traurige Nachrichten aus Mannheim.\n",
      "@svw07 #corona #Covid_19  https://t.co/6JRZRimlZG\n",
      "Hashtags: ['corona', 'Covid_19']\n",
      "----------------------------------------------------------------------------------\n",
      "\n",
      "User: KOZMASTER🇹🇷 | Retweets: 0 | Likes: 0 | Created at: 2020-04-25 14:48:15\n",
      "Text: Güncel durum Covid-19 \n",
      "#corona #koronavirus \n",
      "#EvdeHayatVar #EvdeKal https://t.co/sBrzmCjr2X\n",
      "Hashtags: ['corona', 'koronavirus', 'EvdeHayatVar', 'EvdeKal']\n",
      "Time for getting tweets info:  0.0005478329985635355\n"
     ]
    }
   ],
   "source": [
    "# level 1 display\n",
    "search_hashtag = input(\"Enter the hashtag: \")\n",
    "hashtags = get_top_hashtags(search_hashtag)\n",
    "\n",
    "temp_hashtag = {}\n",
    "\n",
    "start_hashtag = time.perf_counter()\n",
    "Hashtag_print(hashtags)\n",
    "end_hashtag = time.perf_counter()\n",
    "hashtag_time = end_hashtag - start_hashtag\n",
    "\n",
    "\n",
    "print()\n",
    "hashtag_choice = input(\"Enter the hashtag whose tweets you want to see: \")\n",
    "\n",
    "if hashtag_choice in temp_hashtag:\n",
    "    print()\n",
    "    print(f\"Tweets of {hashtag_choice}:\")\n",
    "    for tweet in temp_hashtag[hashtag_choice]:\n",
    "        line_1 = \"User: {} | Retweets: {} | Likes: {} | Created at: {}\".format(tweet['User_Name'], tweet['Retweet_Count'], tweet['Likes_Count'], tweet['created_at'])\n",
    "        line_2 = \"Text: {}\".format(tweet['Text'])\n",
    "        \n",
    "        print(\"----------------------------------------------------------------------------------\")\n",
    "        print()\n",
    "        print(line_1)\n",
    "        print(line_2)\n",
    "        print(\"Hashtags: {}\".format(tweet['Hashtag']))\n",
    "else:\n",
    "    print(\"No tweets found for the selected hashtag.\")\n",
    "    \n",
    "print(\"Time for getting tweets info: \", hashtag_time)"
   ]
  },
  {
   "cell_type": "code",
   "execution_count": 18,
   "id": "fbc7f2a5",
   "metadata": {},
   "outputs": [
    {
     "data": {
      "text/plain": [
       "'Text_text'"
      ]
     },
     "execution_count": 18,
     "metadata": {},
     "output_type": "execute_result"
    }
   ],
   "source": [
    "tweets_collec.create_index([(\"Text\", \"text\")])"
   ]
  },
  {
   "cell_type": "code",
   "execution_count": 19,
   "id": "ff23355b",
   "metadata": {},
   "outputs": [],
   "source": [
    "def search_tweets(search_string):\n",
    "\n",
    "    stop_words = set(stopwords.words('english'))\n",
    "    search_words = search_string.split()\n",
    "    if len(set(search_words) - stop_words) == 0:\n",
    "        return \"Error\"\n",
    "    \n",
    "    search_string = '\"' + search_string + '\"'\n",
    "    # Search for tweets matching the search string\n",
    "    query = {'$text': {'$search': search_string}}\n",
    "    projection = {'_id': 0, 'Text': 1, 'ext': 1, 'created_at': 1, 'Retweet_Count': 1, 'favorite_count': 1, 'Hashtags': 1}\n",
    "    matching_tweets = list(tweets_collec.find(query).sort([('retweeted_status', 1), ('created_at', -1)]).limit(5))\n",
    "\n",
    "\n",
    "    # Print number of matching tweets and return the results\n",
    "    print(f\"Number of matching tweets: {len(matching_tweets)}\")\n",
    "    return matching_tweets"
   ]
  },
  {
   "cell_type": "code",
   "execution_count": 20,
   "id": "88b46b8b",
   "metadata": {},
   "outputs": [
    {
     "name": "stdout",
     "output_type": "stream",
     "text": [
      "Number of matching tweets: 5\n",
      "{'_id': ObjectId('644734a765ef7286884e3d9a'), 'created_at': '2020-04-25 14:47:47', 'Tweet_Id': '1254059536081707008', 'Text': 'https://t.co/owsm135LeO\\nWatch corona virus patient death on youtube😨\\n#SaturdayThoughts\\n#KIMJONGUNDEAD… https://t.co/tguycufZmG', 'Hashtag': ['SaturdayThoughts', 'KIMJONGUNDEAD'], 'User_Id': '705812671891787776', 'User_Name': 'Ahmed Siddique', 'Source_tweet_Id': 0, 'Retweet_Count': 0, 'Likes_Count': 0}\n",
      "------------------\n",
      "{'_id': ObjectId('644728c765ef7286884e117a'), 'created_at': '2020-04-25 14:33:27', 'Tweet_Id': '1254055931522035712', 'Text': \"Latest news of Bengal, 57 Death in Corona but death only for Corona is 18,\\nI can't understand what its means stand for.#CoronaPoliticsHurts\", 'Hashtag': ['CoronaPoliticsHurts'], 'User_Id': '2304926730', 'User_Name': 'Krishnendu Ghosh', 'Source_tweet_Id': 0, 'Retweet_Count': 0, 'Likes_Count': 0}\n",
      "------------------\n",
      "{'_id': ObjectId('64471cf865ef7286884cb615'), 'created_at': '2020-04-25 12:35:46', 'Tweet_Id': '1254026313343602689', 'Text': 'Truth traveling for work everyday.China to Italy.. Maybe we should count all the good people of Italy’s death on Ch… https://t.co/ms9wrSMwo0', 'Hashtag': [], 'User_Id': '899321650457587717', 'User_Name': 'Michelle Meno', 'Source_tweet_Id': 0, 'Retweet_Count': 0, 'Likes_Count': 0}\n",
      "------------------\n",
      "{'_id': ObjectId('64471be365ef7286884c3d10'), 'created_at': '2020-04-12 18:29:17', 'Tweet_Id': '1249404234736566273', 'Text': 'maybe it’s just me , but I ain’t ever wish death on nobody', 'Hashtag': [], 'User_Id': '2295115016', 'User_Name': 'nat🤍', 'Source_tweet_Id': 0, 'Retweet_Count': 0, 'Likes_Count': 0}\n",
      "------------------\n",
      "{'_id': ObjectId('64471bda65ef7286884c346b'), 'created_at': '2020-04-12 18:27:25', 'Tweet_Id': '1249403767180668930', 'Text': 'RT @nuffsaidny: wishing death on people is weirdo behavior.', 'Hashtag': [], 'User_Id': '1242817830946508801', 'User_Name': 'juwelz v', 'Source_tweet_Id': '1249378751349231616', 'Retweet_Count': 0, 'Likes_Count': 0}\n",
      "------------------\n",
      "Time for getting tweets info for a string:  0.02017520800291095\n"
     ]
    }
   ],
   "source": [
    "start_string = time.perf_counter()\n",
    "results = search_tweets('death on')\n",
    "end_string = time.perf_counter()\n",
    "string_time = end_string - start_string\n",
    "\n",
    "\n",
    "\n",
    "if (results==\"Error\"):\n",
    "    print(\"Error: Please provide a non stop word\")\n",
    "else:\n",
    "    for tweet in results:\n",
    "        print(tweet)\n",
    "        print(\"------------------\")\n",
    "\n",
    "print(\"Time for getting tweets info for a string: \", string_time)"
   ]
  },
  {
   "cell_type": "code",
   "execution_count": 5,
   "id": "6733d0bd",
   "metadata": {},
   "outputs": [
    {
     "data": {
      "text/plain": [
       "[('813286', 'Barack Obama', 'BarackObama', 1, 116518121, 'Washington, DC', 1),\n",
       " ('25073877',\n",
       "  'Donald J. Trump',\n",
       "  'realDonaldTrump',\n",
       "  1,\n",
       "  78467254,\n",
       "  'Washington, DC',\n",
       "  0),\n",
       " ('428333', 'CNN Breaking News', 'cnnbrk', 1, 57529057, 'Everywhere', 0),\n",
       " ('18839785', 'Narendra Modi', 'narendramodi', 1, 55781248, 'India', 6),\n",
       " ('44409004', 'Shakira', 'shakira', 1, 52250613, 'Barranquilla', 0),\n",
       " ('759251', 'CNN', 'CNN', 1, 47567385, None, 0),\n",
       " ('807095', 'The New York Times', 'nytimes', 1, 46359985, 'New York City', 1),\n",
       " ('5402612', 'BBC Breaking News', 'BBCBreaking', 1, 43014510, 'London, UK', 0),\n",
       " ('145125358',\n",
       "  'Amitabh Bachchan',\n",
       "  'SrBachchan',\n",
       "  1,\n",
       "  41596464,\n",
       "  'Mumbai, India',\n",
       "  1),\n",
       " ('132385468', 'Salman Khan', 'BeingSalmanKhan', 1, 40094611, 'MUMBAI', 0)]"
      ]
     },
     "execution_count": 5,
     "metadata": {},
     "output_type": "execute_result"
    }
   ],
   "source": [
    " # Top 10 users with most followers, tweets\n",
    "query = \"\"\"select id,name,screen_name,verified,followers_count,location,tweets_count from mydatabase.users \n",
    " order by followers_count DESC,tweets_count DESC \n",
    " limit 10\"\"\"\n",
    "\n",
    "mycursor.execute(query)\n",
    "top_10_users = mycursor.fetchall()\n",
    "top_10_users\n",
    "#cache.put('top_10_users', top_10_users)"
   ]
  },
  {
   "cell_type": "code",
   "execution_count": 32,
   "id": "de57ecba",
   "metadata": {},
   "outputs": [],
   "source": [
    "get_top_10_users = cache.get('top_10_users')"
   ]
  },
  {
   "cell_type": "code",
   "execution_count": 34,
   "id": "8f215f77",
   "metadata": {},
   "outputs": [],
   "source": [
    "# # Top 10 Tweets with most a composite score of Retweets*0.6 + Likes*0.4\n",
    "# def get_top_tweets():\n",
    "#     tweets = tweets_collec.find().sort([(\"Retweet_Count\", -1), (\"Likes_Count\", -1)]).limit(10)\n",
    "#     top_tweets = []\n",
    "#     for tweet in tweets:\n",
    "#         score = tweet['Retweet_Count'] * 0.6 + tweet['Likes_Count'] * 0.4\n",
    "#         tweet['score'] = score\n",
    "#         top_tweets.append(tweet)\n",
    "#     top_tweets = sorted(top_tweets, key=lambda x: x['score'], reverse=True)\n",
    "#     return top_tweets\n",
    "\n",
    "# top_10_tweets = get_top_tweets()\n",
    "# cache.put('top_10_tweets', top_10_tweets)"
   ]
  },
  {
   "cell_type": "code",
   "execution_count": 35,
   "id": "ad4761f9",
   "metadata": {},
   "outputs": [],
   "source": [
    "get_top_10_tweets = cache.get('top_10_tweets')"
   ]
  },
  {
   "cell_type": "code",
   "execution_count": 37,
   "id": "119c092e",
   "metadata": {},
   "outputs": [],
   "source": [
    "# # Top 10 hashtags with are present in most tweets\n",
    "# def get_top_hashtags(limit=10):\n",
    "#     pipeline = [\n",
    "#         {\"$unwind\": \"$Hashtag\"},\n",
    "#         {\"$group\": {\"_id\": \"$Hashtag\", \"count\": {\"$sum\": 1}}},\n",
    "#         {\"$sort\": {\"count\": -1}},\n",
    "#         {\"$limit\": limit}\n",
    "#     ]\n",
    "#     top_hashtags = list(tweets_collec.aggregate(pipeline))\n",
    "#     top_hashtags_dict = {}\n",
    "#     for hashtag in top_hashtags:\n",
    "#         top_hashtags_dict[hashtag['_id']] = hashtag['count']\n",
    "#     return top_hashtags_dict\n",
    "\n",
    "# top_10_hashtags = get_top_hashtags()\n",
    "# cache.put('top_10_hashtags', top_10_hashtags)"
   ]
  },
  {
   "cell_type": "code",
   "execution_count": 38,
   "id": "d0e16d1b",
   "metadata": {},
   "outputs": [],
   "source": [
    "get_top_10_hashtags = cache.get('top_10_hashtags')"
   ]
  }
 ],
 "metadata": {
  "kernelspec": {
   "display_name": "Python 3 (ipykernel)",
   "language": "python",
   "name": "python3"
  },
  "language_info": {
   "codemirror_mode": {
    "name": "ipython",
    "version": 3
   },
   "file_extension": ".py",
   "mimetype": "text/x-python",
   "name": "python",
   "nbconvert_exporter": "python",
   "pygments_lexer": "ipython3",
   "version": "3.9.12"
  }
 },
 "nbformat": 4,
 "nbformat_minor": 5
}
