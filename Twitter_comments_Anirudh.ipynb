{
 "cells": [
  {
   "cell_type": "code",
   "execution_count": 15,
   "id": "70e90ced",
   "metadata": {},
   "outputs": [],
   "source": [
    "import pymongo\n",
    "import json\n",
    "from datetime import datetime\n",
    "import pandas as pd"
   ]
  },
  {
   "cell_type": "code",
   "execution_count": 16,
   "id": "6e5ec228",
   "metadata": {},
   "outputs": [],
   "source": [
    "client = pymongo.MongoClient(\"mongodb://localhost:27017/\") "
   ]
  },
  {
   "cell_type": "code",
   "execution_count": 4,
   "id": "45558cc3",
   "metadata": {},
   "outputs": [
    {
     "name": "stdout",
     "output_type": "stream",
     "text": [
      "Database already exists. Will be dropped...\n",
      "Database connection established\n"
     ]
    }
   ],
   "source": [
    "# #Establish the connection and make the database\n",
    "# client = pymongo.MongoClient(\"mongodb://localhost:27017/\") \n",
    "# db_list = client.list_database_names()\n",
    "# if \"Tweets_DB\" in db_list:\n",
    "#     print(\"Database already exists. Will be dropped...\")\n",
    "#     client.drop_database(\"Tweets_DB\")\n",
    "# db = client[\"Tweets_DB\"]\n",
    "# col_list = db.list_collection_names()\n",
    "# if \"Tweets_data\" in col_list:\n",
    "#         print(\"Tweets Collection already exists. Will be dropped...\")\n",
    "#         db.Tweets_data.drop()\n",
    "# tweets_collec = db[\"Tweets_data\"]\n",
    "# print(\"Database connection established\")"
   ]
  },
  {
   "cell_type": "code",
   "execution_count": 17,
   "id": "6a69d5f4",
   "metadata": {},
   "outputs": [],
   "source": [
    "db=client[\"Tweets_DB\"]\n",
    "tweets_collec=db[\"Tweets_data\"]"
   ]
  },
  {
   "cell_type": "code",
   "execution_count": 5,
   "id": "b8e4651b",
   "metadata": {},
   "outputs": [
    {
     "data": {
      "text/plain": [
       "0"
      ]
     },
     "execution_count": 5,
     "metadata": {},
     "output_type": "execute_result"
    }
   ],
   "source": [
    "tweets_collec.count_documents({})"
   ]
  },
  {
   "cell_type": "code",
   "execution_count": 18,
   "id": "453169d7",
   "metadata": {},
   "outputs": [
    {
     "data": {
      "text/plain": [
       "['TweetsDB', 'Tweets_DB', 'admin', 'config', 'demo', 'local']"
      ]
     },
     "execution_count": 18,
     "metadata": {},
     "output_type": "execute_result"
    }
   ],
   "source": [
    "client.list_database_names()"
   ]
  },
  {
   "cell_type": "code",
   "execution_count": 7,
   "id": "b3b900e6",
   "metadata": {},
   "outputs": [],
   "source": [
    "def find_tweet(tweet_id):\n",
    "    tweet = tweets_collec.find_one({\"Tweet_Id\": tweet_id})\n",
    "    if tweet:\n",
    "        return True\n",
    "    else:\n",
    "        return False"
   ]
  },
  {
   "cell_type": "code",
   "execution_count": 8,
   "id": "37fc52e9",
   "metadata": {},
   "outputs": [],
   "source": [
    "def retweet_counter(tweet_id):\n",
    "    tweets_collec.update_one({'Tweet_Id': tweet_id}, {\"$inc\": {'Retweet_Count': 1}})"
   ]
  },
  {
   "cell_type": "code",
   "execution_count": 9,
   "id": "c898afa5",
   "metadata": {},
   "outputs": [],
   "source": [
    "def add_retweet_list(tweet_Id, retweet_id):\n",
    "    tweets_collec.update_one({'Tweet_Id': tweet_Id}, {'$push': {'Retweet_Ids': retweet_id}})"
   ]
  },
  {
   "cell_type": "code",
   "execution_count": 10,
   "id": "ac698a50",
   "metadata": {},
   "outputs": [],
   "source": [
    "# with open('corona-out-2', \"r\") as read_file:\n",
    "#     for line in read_file:\n",
    "#         try:\n",
    "#             data = json.loads(line)\n",
    "                     \n",
    "#             # check if tweet already exists\n",
    "#             if find_tweet(data['id_str']):\n",
    "#                 continue\n",
    "            \n",
    "#             # check for retweet\n",
    "#             if data['text'].startswith('RT'):\n",
    "#                 if data['retweeted_status']!=None:\n",
    "#                     source_tweet_Id = data['retweeted_status']['id_str']\n",
    "#                     if find_tweet(source_tweet_Id):\n",
    "#                         add_retweet_list(source_tweet_Id, data['id_str'])\n",
    "#                         retweet_counter(source_tweet_Id)\n",
    "#                     else:\n",
    "#                         tweet_info = {\n",
    "#                             'created_at':datetime.strftime(datetime.strptime(data['retweeted_status']['created_at'],'%a %b %d %H:%M:%S +0000 %Y'),'%Y-%m-%d %H:%M:%S'),\n",
    "#                             'Tweet_Id':data['retweeted_status']['id_str'],\n",
    "#                             'Text':data['retweeted_status']['text'],\n",
    "#                             'Hashtag':list(map(lambda x: x[\"text\"], data['retweeted_status']['entities']['hashtags'])),\n",
    "#                             'User_Id':data['retweeted_status']['user']['id_str'],\n",
    "#                             'Retweet_Count': 1,\n",
    "#                             'Retweet_Ids': [data['id_str']]\n",
    "#                         }\n",
    "#                         try:\n",
    "#                             tweets_collec.insert_one(tweet_info)\n",
    "#                         except Exception as e:\n",
    "#                             print(str(e))\n",
    "#             else:\n",
    "#                 source_tweet_Id = 0\n",
    "                \n",
    "#             retweet_info = {\n",
    "#                 'created_at':datetime.strftime(datetime.strptime(data['created_at'],'%a %b %d %H:%M:%S +0000 %Y'),'%Y-%m-%d %H:%M:%S'),\n",
    "#                 'Tweet_Id':data['id_str'],\n",
    "#                 'Text':data['text'],\n",
    "#                 'Hashtag':list(map(lambda x: x[\"text\"], data['entities']['hashtags'])),\n",
    "#                 'User_Id':data['user']['id_str'],\n",
    "#                 'Retweet_Count': 0,\n",
    "#                 'Source_tweet_Id':source_tweet_Id\n",
    "#             }\n",
    "#             try:\n",
    "#                 tweets_collec.insert_one(retweet_info)\n",
    "#             except Exception as e:\n",
    "#                 print(str(e))\n",
    "#         except:\n",
    "#             continue\n"
   ]
  },
  {
   "cell_type": "code",
   "execution_count": 11,
   "id": "6b5e6e10",
   "metadata": {},
   "outputs": [],
   "source": [
    "# with open('corona-out-3', \"r\") as read_file:\n",
    "#     for line in read_file:\n",
    "#         try:\n",
    "#             data = json.loads(line)\n",
    "                     \n",
    "#             # check if tweet already exists\n",
    "#             if find_tweet(data['id_str']):\n",
    "#                 continue\n",
    "            \n",
    "#             # check for retweet\n",
    "#             if data['text'].startswith('RT'):\n",
    "#                 if data['retweeted_status']!=None:\n",
    "#                     source_tweet_Id = data['retweeted_status']['id_str']\n",
    "#                     if find_tweet(source_tweet_Id):\n",
    "#                         add_retweet_list(source_tweet_Id, data['id_str'])\n",
    "#                         retweet_counter(source_tweet_Id)\n",
    "#                     else:\n",
    "#                         tweet_info = {\n",
    "#                             'created_at':datetime.strftime(datetime.strptime(data['retweeted_status']['created_at'],'%a %b %d %H:%M:%S +0000 %Y'),'%Y-%m-%d %H:%M:%S'),\n",
    "#                             'Tweet_Id':data['retweeted_status']['id_str'],\n",
    "#                             'Text':data['retweeted_status']['text'],\n",
    "#                             'Hashtag':list(map(lambda x: x[\"text\"], data['retweeted_status']['entities']['hashtags'])),\n",
    "#                             'User_Id':data['retweeted_status']['user']['id_str'],\n",
    "#                             'Retweet_Count': 1,\n",
    "#                             'Retweet_Ids': [data['id_str']]\n",
    "#                         }\n",
    "#                         try:\n",
    "#                             tweets_collec.insert_one(tweet_info)\n",
    "#                         except Exception as e:\n",
    "#                             print(str(e))\n",
    "#             else:\n",
    "#                 source_tweet_Id = 0\n",
    "                \n",
    "#             retweet_info = {\n",
    "#                 'created_at':datetime.strftime(datetime.strptime(data['created_at'],'%a %b %d %H:%M:%S +0000 %Y'),'%Y-%m-%d %H:%M:%S'),\n",
    "#                 'Tweet_Id':data['id_str'],\n",
    "#                 'Text':data['text'],\n",
    "#                 'Hashtag':list(map(lambda x: x[\"text\"], data['entities']['hashtags'])),\n",
    "#                 'User_Id':data['user']['id_str'],\n",
    "#                 'Retweet_Count': 0,\n",
    "#                 'Source_tweet_Id':source_tweet_Id\n",
    "#             }\n",
    "#             try:\n",
    "#                 tweets_collec.insert_one(retweet_info)\n",
    "#             except Exception as e:\n",
    "#                 print(str(e))\n",
    "#         except:\n",
    "#             continue"
   ]
  },
  {
   "cell_type": "code",
   "execution_count": 4,
   "id": "b2e19e8e",
   "metadata": {},
   "outputs": [],
   "source": [
    "def find_in_collection(tid):\n",
    "    record = None\n",
    "    record = db.tweets_coll.find({'TweetID': tid})\n",
    "    if record:\n",
    "        return True\n",
    "    return False"
   ]
  },
  {
   "cell_type": "code",
   "execution_count": null,
   "id": "06ff69ea",
   "metadata": {},
   "outputs": [],
   "source": [
    "client.list_database_names()"
   ]
  },
  {
   "cell_type": "code",
   "execution_count": 67,
   "id": "66b6c09c",
   "metadata": {},
   "outputs": [
    {
     "data": {
      "text/plain": [
       "134127"
      ]
     },
     "execution_count": 67,
     "metadata": {},
     "output_type": "execute_result"
    }
   ],
   "source": [
    "tweets_collec.count_documents({})"
   ]
  },
  {
   "cell_type": "code",
   "execution_count": 33,
   "id": "3a01c25f",
   "metadata": {},
   "outputs": [
    {
     "name": "stdout",
     "output_type": "stream",
     "text": [
      "{'_id': ObjectId('64360a1147fd37343cf0111c'), 'created_at': '2020-04-12 16:48:01', 'Tweet_Id': '1249378751349231616', 'Text': 'wishing death on people is weirdo behavior.', 'Hashtag': [], 'User_Id': '16144221', 'Retweet_Count': 1, 'Retweet_Ids': ['1249403767180668930']}\n",
      "{'_id': ObjectId('64360a1147fd37343cf0111d'), 'created_at': '2020-04-12 18:27:25', 'Tweet_Id': '1249403767180668930', 'Text': 'RT @nuffsaidny: wishing death on people is weirdo behavior.', 'Hashtag': [], 'User_Id': '1242817830946508801', 'Retweet_Count': 0, 'Source_tweet_Id': '1249378751349231616'}\n",
      "{'_id': ObjectId('64360a1147fd37343cf0111e'), 'created_at': '2020-04-12 18:02:41', 'Tweet_Id': '1249397541596286979', 'Text': 'In Turkey, there are 300 thousand prisoners and 150 thousand prison employees in prisons. \\nPrisons are the most ris… https://t.co/GogsgfUxkE', 'Hashtag': [], 'User_Id': '1087735689091928064', 'Retweet_Count': 10, 'Retweet_Ids': ['1249403768023678982', '1249403897380298754', '1249403953562951682', '1249405604352987137', '1249406101029883907', '1249406159435567114', '1249406248740622337', '1249406250720395265', '1249407818786054150', '1249408471797301251']}\n",
      "{'_id': ObjectId('64360a1147fd37343cf0111f'), 'created_at': '2020-04-12 18:27:25', 'Tweet_Id': '1249403768023678982', 'Text': 'RT @lale_karanfil: In Turkey, there are 300 thousand prisoners and 150 thousand prison employees in prisons. \\nPrisons are the most risky pl…', 'Hashtag': [], 'User_Id': '1225145123920588805', 'Retweet_Count': 0, 'Source_tweet_Id': '1249397541596286979'}\n",
      "{'_id': ObjectId('64360a1147fd37343cf01120'), 'created_at': '2020-04-12 13:19:18', 'Tweet_Id': '1249326224964345857', 'Text': 'Thank You Sir !!\\nReally thankful for encouraging the \\n@BSNL_OR \\n Staff risking their life in maintaining the Teleco… https://t.co/4Qq4QZEqUP', 'Hashtag': [], 'User_Id': '268218622', 'Retweet_Count': 1, 'Retweet_Ids': ['1249403769193779202']}\n"
     ]
    }
   ],
   "source": [
    "for t in tweets_collec.find().limit(5):\n",
    "    print(t)"
   ]
  },
  {
   "cell_type": "code",
   "execution_count": 47,
   "id": "010f2a03",
   "metadata": {},
   "outputs": [
    {
     "ename": "OperationFailure",
     "evalue": "An equivalent index already exists with a different name and options. Requested index: { v: 2, key: { _fts: \"text\", _ftsx: 1 }, name: \"Text_text\", weights: { Text: 1 }, default_language: \"english\", language_override: \"language\", textIndexVersion: 3 }, existing index: { v: 2, key: { _fts: \"text\", _ftsx: 1 }, name: \"text_text\", weights: { text: 1 }, default_language: \"english\", language_override: \"language\", textIndexVersion: 3 }, full error: {'ok': 0.0, 'errmsg': 'An equivalent index already exists with a different name and options. Requested index: { v: 2, key: { _fts: \"text\", _ftsx: 1 }, name: \"Text_text\", weights: { Text: 1 }, default_language: \"english\", language_override: \"language\", textIndexVersion: 3 }, existing index: { v: 2, key: { _fts: \"text\", _ftsx: 1 }, name: \"text_text\", weights: { text: 1 }, default_language: \"english\", language_override: \"language\", textIndexVersion: 3 }', 'code': 85, 'codeName': 'IndexOptionsConflict'}",
     "output_type": "error",
     "traceback": [
      "\u001b[0;31m---------------------------------------------------------------------------\u001b[0m",
      "\u001b[0;31mOperationFailure\u001b[0m                          Traceback (most recent call last)",
      "\u001b[0;32m/var/folders/7p/67dbkxr522v68b197j60h5g80000gn/T/ipykernel_85796/3562562092.py\u001b[0m in \u001b[0;36m<module>\u001b[0;34m\u001b[0m\n\u001b[0;32m----> 1\u001b[0;31m \u001b[0mtweets_collec\u001b[0m\u001b[0;34m.\u001b[0m\u001b[0mcreate_index\u001b[0m\u001b[0;34m(\u001b[0m\u001b[0;34m[\u001b[0m\u001b[0;34m(\u001b[0m\u001b[0;34m'Text'\u001b[0m\u001b[0;34m,\u001b[0m \u001b[0;34m'text'\u001b[0m\u001b[0;34m)\u001b[0m\u001b[0;34m]\u001b[0m\u001b[0;34m)\u001b[0m\u001b[0;34m\u001b[0m\u001b[0;34m\u001b[0m\u001b[0m\n\u001b[0m",
      "\u001b[0;32m~/opt/anaconda3/lib/python3.9/site-packages/pymongo/collection.py\u001b[0m in \u001b[0;36mcreate_index\u001b[0;34m(self, keys, session, comment, **kwargs)\u001b[0m\n\u001b[1;32m   2053\u001b[0m             \u001b[0mcmd_options\u001b[0m\u001b[0;34m[\u001b[0m\u001b[0;34m\"comment\"\u001b[0m\u001b[0;34m]\u001b[0m \u001b[0;34m=\u001b[0m \u001b[0mcomment\u001b[0m\u001b[0;34m\u001b[0m\u001b[0;34m\u001b[0m\u001b[0m\n\u001b[1;32m   2054\u001b[0m         \u001b[0mindex\u001b[0m \u001b[0;34m=\u001b[0m \u001b[0mIndexModel\u001b[0m\u001b[0;34m(\u001b[0m\u001b[0mkeys\u001b[0m\u001b[0;34m,\u001b[0m \u001b[0;34m**\u001b[0m\u001b[0mkwargs\u001b[0m\u001b[0;34m)\u001b[0m\u001b[0;34m\u001b[0m\u001b[0;34m\u001b[0m\u001b[0m\n\u001b[0;32m-> 2055\u001b[0;31m         \u001b[0;32mreturn\u001b[0m \u001b[0mself\u001b[0m\u001b[0;34m.\u001b[0m\u001b[0m__create_indexes\u001b[0m\u001b[0;34m(\u001b[0m\u001b[0;34m[\u001b[0m\u001b[0mindex\u001b[0m\u001b[0;34m]\u001b[0m\u001b[0;34m,\u001b[0m \u001b[0msession\u001b[0m\u001b[0;34m,\u001b[0m \u001b[0;34m**\u001b[0m\u001b[0mcmd_options\u001b[0m\u001b[0;34m)\u001b[0m\u001b[0;34m[\u001b[0m\u001b[0;36m0\u001b[0m\u001b[0;34m]\u001b[0m\u001b[0;34m\u001b[0m\u001b[0;34m\u001b[0m\u001b[0m\n\u001b[0m\u001b[1;32m   2056\u001b[0m \u001b[0;34m\u001b[0m\u001b[0m\n\u001b[1;32m   2057\u001b[0m     def drop_indexes(\n",
      "\u001b[0;32m~/opt/anaconda3/lib/python3.9/site-packages/pymongo/_csot.py\u001b[0m in \u001b[0;36mcsot_wrapper\u001b[0;34m(self, *args, **kwargs)\u001b[0m\n\u001b[1;32m    103\u001b[0m                 \u001b[0;32mwith\u001b[0m \u001b[0m_TimeoutContext\u001b[0m\u001b[0;34m(\u001b[0m\u001b[0mtimeout\u001b[0m\u001b[0;34m)\u001b[0m\u001b[0;34m:\u001b[0m\u001b[0;34m\u001b[0m\u001b[0;34m\u001b[0m\u001b[0m\n\u001b[1;32m    104\u001b[0m                     \u001b[0;32mreturn\u001b[0m \u001b[0mfunc\u001b[0m\u001b[0;34m(\u001b[0m\u001b[0mself\u001b[0m\u001b[0;34m,\u001b[0m \u001b[0;34m*\u001b[0m\u001b[0margs\u001b[0m\u001b[0;34m,\u001b[0m \u001b[0;34m**\u001b[0m\u001b[0mkwargs\u001b[0m\u001b[0;34m)\u001b[0m\u001b[0;34m\u001b[0m\u001b[0;34m\u001b[0m\u001b[0m\n\u001b[0;32m--> 105\u001b[0;31m         \u001b[0;32mreturn\u001b[0m \u001b[0mfunc\u001b[0m\u001b[0;34m(\u001b[0m\u001b[0mself\u001b[0m\u001b[0;34m,\u001b[0m \u001b[0;34m*\u001b[0m\u001b[0margs\u001b[0m\u001b[0;34m,\u001b[0m \u001b[0;34m**\u001b[0m\u001b[0mkwargs\u001b[0m\u001b[0;34m)\u001b[0m\u001b[0;34m\u001b[0m\u001b[0;34m\u001b[0m\u001b[0m\n\u001b[0m\u001b[1;32m    106\u001b[0m \u001b[0;34m\u001b[0m\u001b[0m\n\u001b[1;32m    107\u001b[0m     \u001b[0;32mreturn\u001b[0m \u001b[0mcast\u001b[0m\u001b[0;34m(\u001b[0m\u001b[0mF\u001b[0m\u001b[0;34m,\u001b[0m \u001b[0mcsot_wrapper\u001b[0m\u001b[0;34m)\u001b[0m\u001b[0;34m\u001b[0m\u001b[0;34m\u001b[0m\u001b[0m\n",
      "\u001b[0;32m~/opt/anaconda3/lib/python3.9/site-packages/pymongo/collection.py\u001b[0m in \u001b[0;36m__create_indexes\u001b[0;34m(self, indexes, session, **kwargs)\u001b[0m\n\u001b[1;32m   1930\u001b[0m                 )\n\u001b[1;32m   1931\u001b[0m \u001b[0;34m\u001b[0m\u001b[0m\n\u001b[0;32m-> 1932\u001b[0;31m             self._command(\n\u001b[0m\u001b[1;32m   1933\u001b[0m                 \u001b[0msock_info\u001b[0m\u001b[0;34m,\u001b[0m\u001b[0;34m\u001b[0m\u001b[0;34m\u001b[0m\u001b[0m\n\u001b[1;32m   1934\u001b[0m                 \u001b[0mcmd\u001b[0m\u001b[0;34m,\u001b[0m\u001b[0;34m\u001b[0m\u001b[0;34m\u001b[0m\u001b[0m\n",
      "\u001b[0;32m~/opt/anaconda3/lib/python3.9/site-packages/pymongo/collection.py\u001b[0m in \u001b[0;36m_command\u001b[0;34m(self, sock_info, command, read_preference, codec_options, check, allowable_errors, read_concern, write_concern, collation, session, retryable_write, user_fields)\u001b[0m\n\u001b[1;32m    290\u001b[0m         \"\"\"\n\u001b[1;32m    291\u001b[0m         \u001b[0;32mwith\u001b[0m \u001b[0mself\u001b[0m\u001b[0;34m.\u001b[0m\u001b[0m__database\u001b[0m\u001b[0;34m.\u001b[0m\u001b[0mclient\u001b[0m\u001b[0;34m.\u001b[0m\u001b[0m_tmp_session\u001b[0m\u001b[0;34m(\u001b[0m\u001b[0msession\u001b[0m\u001b[0;34m)\u001b[0m \u001b[0;32mas\u001b[0m \u001b[0ms\u001b[0m\u001b[0;34m:\u001b[0m\u001b[0;34m\u001b[0m\u001b[0;34m\u001b[0m\u001b[0m\n\u001b[0;32m--> 292\u001b[0;31m             return sock_info.command(\n\u001b[0m\u001b[1;32m    293\u001b[0m                 \u001b[0mself\u001b[0m\u001b[0;34m.\u001b[0m\u001b[0m__database\u001b[0m\u001b[0;34m.\u001b[0m\u001b[0mname\u001b[0m\u001b[0;34m,\u001b[0m\u001b[0;34m\u001b[0m\u001b[0;34m\u001b[0m\u001b[0m\n\u001b[1;32m    294\u001b[0m                 \u001b[0mcommand\u001b[0m\u001b[0;34m,\u001b[0m\u001b[0;34m\u001b[0m\u001b[0;34m\u001b[0m\u001b[0m\n",
      "\u001b[0;32m~/opt/anaconda3/lib/python3.9/site-packages/pymongo/pool.py\u001b[0m in \u001b[0;36mcommand\u001b[0;34m(self, dbname, spec, read_preference, codec_options, check, allowable_errors, read_concern, write_concern, parse_write_concern_error, collation, session, client, retryable_write, publish_events, user_fields, exhaust_allowed)\u001b[0m\n\u001b[1;32m    765\u001b[0m             \u001b[0mself\u001b[0m\u001b[0;34m.\u001b[0m\u001b[0m_raise_if_not_writable\u001b[0m\u001b[0;34m(\u001b[0m\u001b[0munacknowledged\u001b[0m\u001b[0;34m)\u001b[0m\u001b[0;34m\u001b[0m\u001b[0;34m\u001b[0m\u001b[0m\n\u001b[1;32m    766\u001b[0m         \u001b[0;32mtry\u001b[0m\u001b[0;34m:\u001b[0m\u001b[0;34m\u001b[0m\u001b[0;34m\u001b[0m\u001b[0m\n\u001b[0;32m--> 767\u001b[0;31m             return command(\n\u001b[0m\u001b[1;32m    768\u001b[0m                 \u001b[0mself\u001b[0m\u001b[0;34m,\u001b[0m\u001b[0;34m\u001b[0m\u001b[0;34m\u001b[0m\u001b[0m\n\u001b[1;32m    769\u001b[0m                 \u001b[0mdbname\u001b[0m\u001b[0;34m,\u001b[0m\u001b[0;34m\u001b[0m\u001b[0;34m\u001b[0m\u001b[0m\n",
      "\u001b[0;32m~/opt/anaconda3/lib/python3.9/site-packages/pymongo/network.py\u001b[0m in \u001b[0;36mcommand\u001b[0;34m(sock_info, dbname, spec, is_mongos, read_preference, codec_options, session, client, check, allowable_errors, address, listeners, max_bson_size, read_concern, parse_write_concern_error, collation, compression_ctx, use_op_msg, unacknowledged, user_fields, exhaust_allowed, write_concern)\u001b[0m\n\u001b[1;32m    164\u001b[0m                 \u001b[0mclient\u001b[0m\u001b[0;34m.\u001b[0m\u001b[0m_process_response\u001b[0m\u001b[0;34m(\u001b[0m\u001b[0mresponse_doc\u001b[0m\u001b[0;34m,\u001b[0m \u001b[0msession\u001b[0m\u001b[0;34m)\u001b[0m\u001b[0;34m\u001b[0m\u001b[0;34m\u001b[0m\u001b[0m\n\u001b[1;32m    165\u001b[0m             \u001b[0;32mif\u001b[0m \u001b[0mcheck\u001b[0m\u001b[0;34m:\u001b[0m\u001b[0;34m\u001b[0m\u001b[0;34m\u001b[0m\u001b[0m\n\u001b[0;32m--> 166\u001b[0;31m                 helpers._check_command_response(\n\u001b[0m\u001b[1;32m    167\u001b[0m                     \u001b[0mresponse_doc\u001b[0m\u001b[0;34m,\u001b[0m\u001b[0;34m\u001b[0m\u001b[0;34m\u001b[0m\u001b[0m\n\u001b[1;32m    168\u001b[0m                     \u001b[0msock_info\u001b[0m\u001b[0;34m.\u001b[0m\u001b[0mmax_wire_version\u001b[0m\u001b[0;34m,\u001b[0m\u001b[0;34m\u001b[0m\u001b[0;34m\u001b[0m\u001b[0m\n",
      "\u001b[0;32m~/opt/anaconda3/lib/python3.9/site-packages/pymongo/helpers.py\u001b[0m in \u001b[0;36m_check_command_response\u001b[0;34m(response, max_wire_version, allowable_errors, parse_write_concern_error)\u001b[0m\n\u001b[1;32m    179\u001b[0m         \u001b[0;32mraise\u001b[0m \u001b[0mCursorNotFound\u001b[0m\u001b[0;34m(\u001b[0m\u001b[0merrmsg\u001b[0m\u001b[0;34m,\u001b[0m \u001b[0mcode\u001b[0m\u001b[0;34m,\u001b[0m \u001b[0mresponse\u001b[0m\u001b[0;34m,\u001b[0m \u001b[0mmax_wire_version\u001b[0m\u001b[0;34m)\u001b[0m\u001b[0;34m\u001b[0m\u001b[0;34m\u001b[0m\u001b[0m\n\u001b[1;32m    180\u001b[0m \u001b[0;34m\u001b[0m\u001b[0m\n\u001b[0;32m--> 181\u001b[0;31m     \u001b[0;32mraise\u001b[0m \u001b[0mOperationFailure\u001b[0m\u001b[0;34m(\u001b[0m\u001b[0merrmsg\u001b[0m\u001b[0;34m,\u001b[0m \u001b[0mcode\u001b[0m\u001b[0;34m,\u001b[0m \u001b[0mresponse\u001b[0m\u001b[0;34m,\u001b[0m \u001b[0mmax_wire_version\u001b[0m\u001b[0;34m)\u001b[0m\u001b[0;34m\u001b[0m\u001b[0;34m\u001b[0m\u001b[0m\n\u001b[0m\u001b[1;32m    182\u001b[0m \u001b[0;34m\u001b[0m\u001b[0m\n\u001b[1;32m    183\u001b[0m \u001b[0;34m\u001b[0m\u001b[0m\n",
      "\u001b[0;31mOperationFailure\u001b[0m: An equivalent index already exists with a different name and options. Requested index: { v: 2, key: { _fts: \"text\", _ftsx: 1 }, name: \"Text_text\", weights: { Text: 1 }, default_language: \"english\", language_override: \"language\", textIndexVersion: 3 }, existing index: { v: 2, key: { _fts: \"text\", _ftsx: 1 }, name: \"text_text\", weights: { text: 1 }, default_language: \"english\", language_override: \"language\", textIndexVersion: 3 }, full error: {'ok': 0.0, 'errmsg': 'An equivalent index already exists with a different name and options. Requested index: { v: 2, key: { _fts: \"text\", _ftsx: 1 }, name: \"Text_text\", weights: { Text: 1 }, default_language: \"english\", language_override: \"language\", textIndexVersion: 3 }, existing index: { v: 2, key: { _fts: \"text\", _ftsx: 1 }, name: \"text_text\", weights: { text: 1 }, default_language: \"english\", language_override: \"language\", textIndexVersion: 3 }', 'code': 85, 'codeName': 'IndexOptionsConflict'}"
     ]
    }
   ],
   "source": [
    "tweets_collec.create_index([('Text', 'text')])"
   ]
  },
  {
   "cell_type": "code",
   "execution_count": 68,
   "id": "200ade64",
   "metadata": {},
   "outputs": [],
   "source": [
    "def search_tweets(query):\n",
    "    results = []\n",
    "    for tweet in tweets_collec.find({'$text': {'$search': query}}).limit(5):\n",
    "        results.append(tweet)\n",
    "    print(f\"Number of tweets matching '{query}': {len(results)}\")\n",
    "    return results"
   ]
  },
  {
   "cell_type": "code",
   "execution_count": 69,
   "id": "27dd34a6",
   "metadata": {},
   "outputs": [
    {
     "name": "stdout",
     "output_type": "stream",
     "text": [
      "Number of tweets matching 'prison': 0\n"
     ]
    }
   ],
   "source": [
    "results = search_tweets('prison')\n",
    "for tweet in results:\n",
    "    print(tweet['Text'])"
   ]
  },
  {
   "cell_type": "code",
   "execution_count": null,
   "id": "f846268b",
   "metadata": {},
   "outputs": [],
   "source": []
  }
 ],
 "metadata": {
  "kernelspec": {
   "display_name": "Python 3 (ipykernel)",
   "language": "python",
   "name": "python3"
  },
  "language_info": {
   "codemirror_mode": {
    "name": "ipython",
    "version": 3
   },
   "file_extension": ".py",
   "mimetype": "text/x-python",
   "name": "python",
   "nbconvert_exporter": "python",
   "pygments_lexer": "ipython3",
   "version": "3.9.13"
  }
 },
 "nbformat": 4,
 "nbformat_minor": 5
}
