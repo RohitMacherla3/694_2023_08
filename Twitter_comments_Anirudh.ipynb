{
 "cells": [
  {
   "cell_type": "code",
   "execution_count": 15,
   "id": "70e90ced",
   "metadata": {},
   "outputs": [],
   "source": [
    "import pymongo\n",
    "import json\n",
    "from datetime import datetime\n",
    "import pandas as pd"
   ]
  },
  {
   "cell_type": "code",
   "execution_count": 16,
   "id": "6e5ec228",
   "metadata": {},
   "outputs": [],
   "source": [
    "client = pymongo.MongoClient(\"mongodb://localhost:27017/\") "
   ]
  },
  {
   "cell_type": "code",
   "execution_count": 4,
   "id": "45558cc3",
   "metadata": {},
   "outputs": [
    {
     "name": "stdout",
     "output_type": "stream",
     "text": [
      "Database already exists. Will be dropped...\n",
      "Database connection established\n"
     ]
    }
   ],
   "source": [
    "# #Establish the connection and make the database\n",
    "# client = pymongo.MongoClient(\"mongodb://localhost:27017/\") \n",
    "# db_list = client.list_database_names()\n",
    "# if \"Tweets_DB\" in db_list:\n",
    "#     print(\"Database already exists. Will be dropped...\")\n",
    "#     client.drop_database(\"Tweets_DB\")\n",
    "# db = client[\"Tweets_DB\"]\n",
    "# col_list = db.list_collection_names()\n",
    "# if \"Tweets_data\" in col_list:\n",
    "#         print(\"Tweets Collection already exists. Will be dropped...\")\n",
    "#         db.Tweets_data.drop()\n",
    "# tweets_collec = db[\"Tweets_data\"]\n",
    "# print(\"Database connection established\")"
   ]
  },
  {
   "cell_type": "code",
   "execution_count": 17,
   "id": "6a69d5f4",
   "metadata": {},
   "outputs": [],
   "source": [
    "db=client[\"Tweets_DB\"]\n",
    "tweets_collec=db[\"Tweets_data\"]"
   ]
  },
  {
   "cell_type": "code",
   "execution_count": 5,
   "id": "b8e4651b",
   "metadata": {},
   "outputs": [
    {
     "data": {
      "text/plain": [
       "0"
      ]
     },
     "execution_count": 5,
     "metadata": {},
     "output_type": "execute_result"
    }
   ],
   "source": [
    "tweets_collec.count_documents({})"
   ]
  },
  {
   "cell_type": "code",
   "execution_count": 18,
   "id": "453169d7",
   "metadata": {},
   "outputs": [
    {
     "data": {
      "text/plain": [
       "['TweetsDB', 'Tweets_DB', 'admin', 'config', 'demo', 'local']"
      ]
     },
     "execution_count": 18,
     "metadata": {},
     "output_type": "execute_result"
    }
   ],
   "source": [
    "client.list_database_names()"
   ]
  },
  {
   "cell_type": "code",
   "execution_count": 7,
   "id": "b3b900e6",
   "metadata": {},
   "outputs": [],
   "source": [
    "def find_tweet(tweet_id):\n",
    "    tweet = tweets_collec.find_one({\"Tweet_Id\": tweet_id})\n",
    "    if tweet:\n",
    "        return True\n",
    "    else:\n",
    "        return False"
   ]
  },
  {
   "cell_type": "code",
   "execution_count": 8,
   "id": "37fc52e9",
   "metadata": {},
   "outputs": [],
   "source": [
    "def retweet_counter(tweet_id):\n",
    "    tweets_collec.update_one({'Tweet_Id': tweet_id}, {\"$inc\": {'Retweet_Count': 1}})"
   ]
  },
  {
   "cell_type": "code",
   "execution_count": 9,
   "id": "c898afa5",
   "metadata": {},
   "outputs": [],
   "source": [
    "def add_retweet_list(tweet_Id, retweet_id):\n",
    "    tweets_collec.update_one({'Tweet_Id': tweet_Id}, {'$push': {'Retweet_Ids': retweet_id}})"
   ]
  },
  {
   "cell_type": "code",
   "execution_count": 10,
   "id": "ac698a50",
   "metadata": {},
   "outputs": [],
   "source": [
    "# with open('corona-out-2', \"r\") as read_file:\n",
    "#     for line in read_file:\n",
    "#         try:\n",
    "#             data = json.loads(line)\n",
    "                     \n",
    "#             # check if tweet already exists\n",
    "#             if find_tweet(data['id_str']):\n",
    "#                 continue\n",
    "            \n",
    "#             # check for retweet\n",
    "#             if data['text'].startswith('RT'):\n",
    "#                 if data['retweeted_status']!=None:\n",
    "#                     source_tweet_Id = data['retweeted_status']['id_str']\n",
    "#                     if find_tweet(source_tweet_Id):\n",
    "#                         add_retweet_list(source_tweet_Id, data['id_str'])\n",
    "#                         retweet_counter(source_tweet_Id)\n",
    "#                     else:\n",
    "#                         tweet_info = {\n",
    "#                             'created_at':datetime.strftime(datetime.strptime(data['retweeted_status']['created_at'],'%a %b %d %H:%M:%S +0000 %Y'),'%Y-%m-%d %H:%M:%S'),\n",
    "#                             'Tweet_Id':data['retweeted_status']['id_str'],\n",
    "#                             'Text':data['retweeted_status']['text'],\n",
    "#                             'Hashtag':list(map(lambda x: x[\"text\"], data['retweeted_status']['entities']['hashtags'])),\n",
    "#                             'User_Id':data['retweeted_status']['user']['id_str'],\n",
    "#                             'Retweet_Count': 1,\n",
    "#                             'Retweet_Ids': [data['id_str']]\n",
    "#                         }\n",
    "#                         try:\n",
    "#                             tweets_collec.insert_one(tweet_info)\n",
    "#                         except Exception as e:\n",
    "#                             print(str(e))\n",
    "#             else:\n",
    "#                 source_tweet_Id = 0\n",
    "                \n",
    "#             retweet_info = {\n",
    "#                 'created_at':datetime.strftime(datetime.strptime(data['created_at'],'%a %b %d %H:%M:%S +0000 %Y'),'%Y-%m-%d %H:%M:%S'),\n",
    "#                 'Tweet_Id':data['id_str'],\n",
    "#                 'Text':data['text'],\n",
    "#                 'Hashtag':list(map(lambda x: x[\"text\"], data['entities']['hashtags'])),\n",
    "#                 'User_Id':data['user']['id_str'],\n",
    "#                 'Retweet_Count': 0,\n",
    "#                 'Source_tweet_Id':source_tweet_Id\n",
    "#             }\n",
    "#             try:\n",
    "#                 tweets_collec.insert_one(retweet_info)\n",
    "#             except Exception as e:\n",
    "#                 print(str(e))\n",
    "#         except:\n",
    "#             continue\n"
   ]
  },
  {
   "cell_type": "code",
   "execution_count": 11,
   "id": "6b5e6e10",
   "metadata": {},
   "outputs": [],
   "source": [
    "# with open('corona-out-3', \"r\") as read_file:\n",
    "#     for line in read_file:\n",
    "#         try:\n",
    "#             data = json.loads(line)\n",
    "                     \n",
    "#             # check if tweet already exists\n",
    "#             if find_tweet(data['id_str']):\n",
    "#                 continue\n",
    "            \n",
    "#             # check for retweet\n",
    "#             if data['text'].startswith('RT'):\n",
    "#                 if data['retweeted_status']!=None:\n",
    "#                     source_tweet_Id = data['retweeted_status']['id_str']\n",
    "#                     if find_tweet(source_tweet_Id):\n",
    "#                         add_retweet_list(source_tweet_Id, data['id_str'])\n",
    "#                         retweet_counter(source_tweet_Id)\n",
    "#                     else:\n",
    "#                         tweet_info = {\n",
    "#                             'created_at':datetime.strftime(datetime.strptime(data['retweeted_status']['created_at'],'%a %b %d %H:%M:%S +0000 %Y'),'%Y-%m-%d %H:%M:%S'),\n",
    "#                             'Tweet_Id':data['retweeted_status']['id_str'],\n",
    "#                             'Text':data['retweeted_status']['text'],\n",
    "#                             'Hashtag':list(map(lambda x: x[\"text\"], data['retweeted_status']['entities']['hashtags'])),\n",
    "#                             'User_Id':data['retweeted_status']['user']['id_str'],\n",
    "#                             'Retweet_Count': 1,\n",
    "#                             'Retweet_Ids': [data['id_str']]\n",
    "#                         }\n",
    "#                         try:\n",
    "#                             tweets_collec.insert_one(tweet_info)\n",
    "#                         except Exception as e:\n",
    "#                             print(str(e))\n",
    "#             else:\n",
    "#                 source_tweet_Id = 0\n",
    "                \n",
    "#             retweet_info = {\n",
    "#                 'created_at':datetime.strftime(datetime.strptime(data['created_at'],'%a %b %d %H:%M:%S +0000 %Y'),'%Y-%m-%d %H:%M:%S'),\n",
    "#                 'Tweet_Id':data['id_str'],\n",
    "#                 'Text':data['text'],\n",
    "#                 'Hashtag':list(map(lambda x: x[\"text\"], data['entities']['hashtags'])),\n",
    "#                 'User_Id':data['user']['id_str'],\n",
    "#                 'Retweet_Count': 0,\n",
    "#                 'Source_tweet_Id':source_tweet_Id\n",
    "#             }\n",
    "#             try:\n",
    "#                 tweets_collec.insert_one(retweet_info)\n",
    "#             except Exception as e:\n",
    "#                 print(str(e))\n",
    "#         except:\n",
    "#             continue"
   ]
  },
  {
   "cell_type": "code",
   "execution_count": 4,
   "id": "b2e19e8e",
   "metadata": {},
   "outputs": [],
   "source": [
    "def find_in_collection(tid):\n",
    "    record = None\n",
    "    record = db.tweets_coll.find({'TweetID': tid})\n",
    "    if record:\n",
    "        return True\n",
    "    return False"
   ]
  },
  {
   "cell_type": "code",
   "execution_count": null,
   "id": "06ff69ea",
   "metadata": {},
   "outputs": [],
   "source": [
    "client.list_database_names()"
   ]
  },
  {
   "cell_type": "code",
   "execution_count": 19,
   "id": "66b6c09c",
   "metadata": {},
   "outputs": [
    {
     "data": {
      "text/plain": [
       "134127"
      ]
     },
     "execution_count": 19,
     "metadata": {},
     "output_type": "execute_result"
    }
   ],
   "source": [
    "tweets_collec.count_documents({})"
   ]
  },
  {
   "cell_type": "code",
   "execution_count": 21,
   "id": "3a01c25f",
   "metadata": {},
   "outputs": [
    {
     "name": "stdout",
     "output_type": "stream",
     "text": [
      "{'_id': ObjectId('64360a1147fd37343cf0111c'), 'created_at': '2020-04-12 16:48:01', 'Tweet_Id': '1249378751349231616', 'Text': 'wishing death on people is weirdo behavior.', 'Hashtag': [], 'User_Id': '16144221', 'Retweet_Count': 1, 'Retweet_Ids': ['1249403767180668930']}\n",
      "{'_id': ObjectId('64360a1147fd37343cf0111d'), 'created_at': '2020-04-12 18:27:25', 'Tweet_Id': '1249403767180668930', 'Text': 'RT @nuffsaidny: wishing death on people is weirdo behavior.', 'Hashtag': [], 'User_Id': '1242817830946508801', 'Retweet_Count': 0, 'Source_tweet_Id': '1249378751349231616'}\n",
      "{'_id': ObjectId('64360a1147fd37343cf0111e'), 'created_at': '2020-04-12 18:02:41', 'Tweet_Id': '1249397541596286979', 'Text': 'In Turkey, there are 300 thousand prisoners and 150 thousand prison employees in prisons. \\nPrisons are the most ris… https://t.co/GogsgfUxkE', 'Hashtag': [], 'User_Id': '1087735689091928064', 'Retweet_Count': 10, 'Retweet_Ids': ['1249403768023678982', '1249403897380298754', '1249403953562951682', '1249405604352987137', '1249406101029883907', '1249406159435567114', '1249406248740622337', '1249406250720395265', '1249407818786054150', '1249408471797301251']}\n",
      "{'_id': ObjectId('64360a1147fd37343cf0111f'), 'created_at': '2020-04-12 18:27:25', 'Tweet_Id': '1249403768023678982', 'Text': 'RT @lale_karanfil: In Turkey, there are 300 thousand prisoners and 150 thousand prison employees in prisons. \\nPrisons are the most risky pl…', 'Hashtag': [], 'User_Id': '1225145123920588805', 'Retweet_Count': 0, 'Source_tweet_Id': '1249397541596286979'}\n",
      "{'_id': ObjectId('64360a1147fd37343cf01120'), 'created_at': '2020-04-12 13:19:18', 'Tweet_Id': '1249326224964345857', 'Text': 'Thank You Sir !!\\nReally thankful for encouraging the \\n@BSNL_OR \\n Staff risking their life in maintaining the Teleco… https://t.co/4Qq4QZEqUP', 'Hashtag': [], 'User_Id': '268218622', 'Retweet_Count': 1, 'Retweet_Ids': ['1249403769193779202']}\n"
     ]
    }
   ],
   "source": [
    "for t in tweets_collec.find().limit(5):\n",
    "    print(t)"
   ]
  },
  {
   "cell_type": "code",
   "execution_count": null,
   "id": "646dd72c",
   "metadata": {},
   "outputs": [],
   "source": []
  }
 ],
 "metadata": {
  "kernelspec": {
   "display_name": "Python 3 (ipykernel)",
   "language": "python",
   "name": "python3"
  },
  "language_info": {
   "codemirror_mode": {
    "name": "ipython",
    "version": 3
   },
   "file_extension": ".py",
   "mimetype": "text/x-python",
   "name": "python",
   "nbconvert_exporter": "python",
   "pygments_lexer": "ipython3",
   "version": "3.9.13"
  }
 },
 "nbformat": 4,
 "nbformat_minor": 5
}
