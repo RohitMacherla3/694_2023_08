{
 "cells": [
  {
   "cell_type": "code",
   "execution_count": 6,
   "id": "62115f98",
   "metadata": {},
   "outputs": [],
   "source": [
    "# Import Libraries\n",
    "import pymongo\n",
    "import json\n",
    "from bson.objectid import ObjectId\n",
    "from datetime import datetime\n",
    "\n",
    "import time\n",
    "import mysql.connector as cnx"
   ]
  },
  {
   "cell_type": "code",
   "execution_count": 2,
   "id": "7f9b4960",
   "metadata": {},
   "outputs": [],
   "source": [
    "mydb = cnx.connect(\n",
    "  host=\"localhost\",\n",
    "  user=\"root\",\n",
    "  password=\"root@123\",\n",
    "  database=\"mydatabase\"\n",
    ")\n",
    "\n",
    "mycursor = mydb.cursor(buffered=True)"
   ]
  },
  {
   "cell_type": "code",
   "execution_count": 3,
   "id": "9ef69713",
   "metadata": {},
   "outputs": [],
   "source": [
    "# check if the search term starts with '@'\n",
    "def UserSearch(search_term):\n",
    "    \n",
    "    if search_term.startswith('@'):\n",
    "    # remove the '@' symbol from the search term\n",
    "        search_term = search_term[1:]\n",
    "    \n",
    "    # execute the query to search for user details based on username\n",
    "        query = \"\"\"\n",
    "            SELECT * FROM users \n",
    "            WHERE name LIKE %s \n",
    "            ORDER BY followers_count DESC, tweets_count DESC, verified DESC\n",
    "            LIMIT 5\n",
    "            \"\"\"\n",
    "        mycursor.execute(query, ('%' + search_term + '%',))\n",
    "        results = mycursor.fetchall()\n",
    "        return results"
   ]
  },
  {
   "cell_type": "code",
   "execution_count": 4,
   "id": "93caba75",
   "metadata": {},
   "outputs": [],
   "source": [
    "def UserPrint(results):\n",
    "    for result in results:\n",
    "        if result[3]==1:\n",
    "            verified_status=\"✅\"\n",
    "        else:\n",
    "            verified_status=\"❌\"\n",
    "            \n",
    "        line1 = \"ID: {} | Name: {} | Verified: {}\".format(result[0], result[1], verified_status)\n",
    "        # format the remaining fields in another line\n",
    "        line2 = \"Followers: {} | Tweets: {}\".format(result[4], result[8])\n",
    "        line3 = \"Description : {}\".format(result[9])\n",
    "        line4=\"Location : {} | Creation Date:{}\".format(result[7],result[6])\n",
    "        \n",
    "        # print both lines\n",
    "        print(line1)\n",
    "        print(line2)\n",
    "        print(line3)\n",
    "        print(line4)\n",
    "        print(\"--------------------------------------------\")"
   ]
  },
  {
   "cell_type": "code",
   "execution_count": 5,
   "id": "b6d26bc9",
   "metadata": {},
   "outputs": [
    {
     "name": "stdout",
     "output_type": "stream",
     "text": [
      "Enter the search term: @prashanth\n",
      "ID: 59468437 | Name: Prashanth Rangaswamy | Verified: ❌\n",
      "Followers: 534567 | Tweets: 3\n",
      "Description : South Indian movie Tracker |  Make someone smile today 😊 | Contact : tamilcinereview@gmail.com Phone : +91 9655555970\n",
      "Location : Chennai, India | Creation Date:2009-07-23 13:54:35\n",
      "--------------------------------------------\n",
      "ID: 141597220 | Name: Prashanth | Verified: ❌\n",
      "Followers: 43 | Tweets: 1\n",
      "Description : None\n",
      "Location : Mumbai | Creation Date:2010-05-08 14:02:35\n",
      "--------------------------------------------\n",
      "ID: 1150308254527791104 | Name: kgf andre prashanth neel boss | Verified: ❌\n",
      "Followers: 42 | Tweets: 1\n",
      "Description : sandalwood only\n",
      "Location : None | Creation Date:2019-07-14 07:37:14\n",
      "--------------------------------------------\n",
      "Load more results? (yes/no) y\n",
      "ID: 1066014590125797376 | Name: Prashanth | Verified: ❌\n",
      "Followers: 35 | Tweets: 1\n",
      "Description : Upcoming DirActor\n",
      "\n",
      "Fan of cinema\n",
      "\n",
      "எல்லா புகழும் இறைவன் ஒருவனுக்கே 🙏🙏🙏\n",
      "Location : Cuddalore Tamil Nadu | Creation Date:2018-11-23 17:04:18\n",
      "--------------------------------------------\n",
      "ID: 1093327702801768448 | Name: Prashanth Bejjanki | Verified: ❌\n",
      "Followers: 5 | Tweets: 1\n",
      "Description : None\n",
      "Location : None | Creation Date:2019-02-07 01:56:52\n",
      "--------------------------------------------\n"
     ]
    }
   ],
   "source": [
    "search_term = input(\"Enter the search term: \")\n",
    "results=UserSearch(search_term)\n",
    "UserPrint(results[:3])\n",
    "    # check if there are more results\n",
    "if len(results) > 3:\n",
    "        # prompt the user to load more results\n",
    "    load_more = input(\"Load more results? (yes/no) \")\n",
    "    if load_more.lower().startswith('y'):\n",
    "        UserPrint(results[3:5])"
   ]
  },
  {
   "cell_type": "code",
   "execution_count": 1,
   "id": "a00e085a",
   "metadata": {},
   "outputs": [],
   "source": [
    "# MongoDB part"
   ]
  },
  {
   "cell_type": "code",
   "execution_count": 7,
   "id": "b0abbb06",
   "metadata": {},
   "outputs": [],
   "source": [
    "client = pymongo.MongoClient(\"mongodb://localhost:27017/\") \n",
    "db = client[\"Tweets_DB\"]\n",
    "tweets_collec = db[\"Tweets_data\"]"
   ]
  },
  {
   "cell_type": "code",
   "execution_count": null,
   "id": "c24efd64",
   "metadata": {},
   "outputs": [],
   "source": [
    "def get_user_tweets(user_id):\n",
    "    user_tweets = list(tweets_collec.find({'User_Id': user_id}).sort([('created_at', -1)]).limit(3))\n",
    "    for tweet in user_tweets:\n",
    "        return print(f\"Created at: {tweet['created_at']}\\nText: {tweet['Text']}\\nHashtags: {tweet['Hashtag']}\\nRetweet Count: {tweet['Retweet_Count']}\\nLikes Count: {tweet['Likes_Count']}\")"
   ]
  },
  {
   "cell_type": "code",
   "execution_count": null,
   "id": "eb38a315",
   "metadata": {},
   "outputs": [],
   "source": [
    "for result in results:\n",
    "    get_user_tweets(result[0])"
   ]
  }
 ],
 "metadata": {
  "kernelspec": {
   "display_name": "Python 3 (ipykernel)",
   "language": "python",
   "name": "python3"
  },
  "language_info": {
   "codemirror_mode": {
    "name": "ipython",
    "version": 3
   },
   "file_extension": ".py",
   "mimetype": "text/x-python",
   "name": "python",
   "nbconvert_exporter": "python",
   "pygments_lexer": "ipython3",
   "version": "3.10.8"
  }
 },
 "nbformat": 4,
 "nbformat_minor": 5
}
