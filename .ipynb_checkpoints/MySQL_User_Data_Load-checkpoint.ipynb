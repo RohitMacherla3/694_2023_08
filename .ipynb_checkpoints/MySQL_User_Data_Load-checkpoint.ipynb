{
 "cells": [
  {
   "cell_type": "markdown",
   "id": "f9d9aaae",
   "metadata": {},
   "source": [
    "Requirements : MYSQL should be installed and running."
   ]
  },
  {
   "cell_type": "code",
   "execution_count": 18,
   "id": "89f86553",
   "metadata": {},
   "outputs": [],
   "source": [
    "import json\n",
    "from datetime import datetime\n",
    "import time\n",
    "import mysql.connector"
   ]
  },
  {
   "cell_type": "code",
   "execution_count": 2,
   "id": "a984cdd9",
   "metadata": {},
   "outputs": [],
   "source": [
    "#pip install mysql-connector-python (Required if its your first time)"
   ]
  },
  {
   "cell_type": "code",
   "execution_count": 19,
   "id": "748da600",
   "metadata": {},
   "outputs": [
    {
     "name": "stdout",
     "output_type": "stream",
     "text": [
      "<mysql.connector.connection.MySQLConnection object at 0x7fd35212e190>\n"
     ]
    }
   ],
   "source": [
    "#Connecting to the MySQL server. Replace user and password with your credentials\n",
    "import mysql.connector\n",
    "\n",
    "mydb = mysql.connector.connect(\n",
    "  host=\"localhost\",\n",
    "  user=\"root\",\n",
    "  password=\"root@123\"\n",
    ")\n",
    "\n",
    "print(mydb)"
   ]
  },
  {
   "cell_type": "code",
   "execution_count": 20,
   "id": "ea855c9f",
   "metadata": {},
   "outputs": [],
   "source": [
    "#Creating a cursor object on the server\n",
    "mycursor = mydb.cursor(buffered=True)"
   ]
  },
  {
   "cell_type": "code",
   "execution_count": 21,
   "id": "8ddc5197",
   "metadata": {},
   "outputs": [],
   "source": [
    "#mycursor.execute(\"drop DATABASE mydatabase\") #Use this, if you want to restart building your database "
   ]
  },
  {
   "cell_type": "code",
   "execution_count": 22,
   "id": "e0adafe4",
   "metadata": {},
   "outputs": [],
   "source": [
    "mycursor.execute(\"CREATE DATABASE if not exists mydatabase\") #Creating the database"
   ]
  },
  {
   "cell_type": "code",
   "execution_count": 23,
   "id": "42679e5d",
   "metadata": {},
   "outputs": [],
   "source": [
    "#Now connecting to the database in the server, instead of just to the server.\n",
    "mydb = mysql.connector.connect(\n",
    "  host=\"localhost\",\n",
    "  user=\"root\",\n",
    "  password=\"root@123\",\n",
    "  database=\"mydatabase\"\n",
    ")\n",
    "\n",
    "mycursor = mydb.cursor(buffered=True)"
   ]
  },
  {
   "cell_type": "code",
   "execution_count": 8,
   "id": "1c9e7a16",
   "metadata": {},
   "outputs": [],
   "source": [
    "#Creating the users table with the following fields\n",
    "mycursor.execute('drop table if exists users')\n",
    "mycursor.execute('''CREATE TABLE if not exists users\n",
    "             (id VARCHAR(255) PRIMARY KEY,\n",
    "             name VARCHAR(255),\n",
    "             screen_name VARCHAR(255),\n",
    "             verified boolean,\n",
    "             followers_count BIGINT,\n",
    "             friends_count BIGINT,\n",
    "             created_at DATETIME,\n",
    "             location VARCHAR(255),\n",
    "             tweets_count BIGINT,\n",
    "             Description TEXT)''')\n",
    "\n",
    "mydb.commit()"
   ]
  },
  {
   "cell_type": "code",
   "execution_count": 9,
   "id": "eaab856a",
   "metadata": {},
   "outputs": [],
   "source": [
    "import pandas as pd\n",
    "df = pd.read_csv('tweets_counts.csv')"
   ]
  },
  {
   "cell_type": "code",
   "execution_count": 10,
   "id": "e53b6161",
   "metadata": {},
   "outputs": [],
   "source": [
    "def UserInsert(User):\n",
    "    query = '''SELECT * FROM users WHERE id=%s'''\n",
    "    mycursor.execute(query,(User['id_str'],))\n",
    "    existing_user = mycursor.fetchone()\n",
    "    if not existing_user:\n",
    "        filtered_df = df[df['User_ID'] == int(User['id_str'])]\n",
    "        if not filtered_df.empty:\n",
    "            tweet_count = filtered_df.iloc[0]['Tweets_Count']\n",
    "        else:\n",
    "            tweet_count = 0\n",
    "        date_time_obj = datetime.strptime(User['created_at'], '%a %b %d %H:%M:%S %z %Y')\n",
    "        user_info = {'id': User['id_str'],'name': User['name'],\n",
    "                         'screen_name': User['screen_name'],\n",
    "                        'verified':User['verified'],\n",
    "                        'followers_count':User['followers_count'],\n",
    "                        'friends_count':User['friends_count'],\n",
    "                        'created_at':date_time_obj,\n",
    "                            'location' : User['location'],\n",
    "                            'Description':User['description'],\n",
    "                            'tweet_count' : int(tweet_count)}\n",
    "        query = \"\"\"INSERT INTO users (id, screen_name, name,verified,followers_count,friends_count,created_at,location,tweets_count,Description) VALUES (%s, %s, %s,%s,%s,%s,%s,%s,%s,%s)\"\"\"\n",
    "        val= (user_info['id'],user_info['screen_name'],user_info['name'],user_info['verified'],user_info['followers_count'],user_info['friends_count'],user_info['created_at'],user_info['location'],user_info['tweet_count'],user_info['Description'])\n",
    "        mycursor.execute(query,val)\n",
    "    mydb.commit()"
   ]
  },
  {
   "cell_type": "code",
   "execution_count": 11,
   "id": "4816fd7f",
   "metadata": {},
   "outputs": [],
   "source": [
    "def loadData(filename):\n",
    "    start_time = time.time()\n",
    "    with open(filename, 'r') as f:\n",
    "        for line in f:\n",
    "            try:\n",
    "                data = json.loads(line)\n",
    "                UserInsert(data['user'])\n",
    "                if 'retweeted_status' in data:\n",
    "                    UserInsert(data['retweeted_status']['user'])\n",
    "                if 'quoted_status' in data:\n",
    "                    UserInsert(data['quoted_status']['user'])\n",
    "            except Exception as e:\n",
    "                #print(e)\n",
    "                continue\n",
    "    end_time = time.time()\n",
    "    elapsed_time = end_time - start_time\n",
    "    print(f\"Elapsed time: {elapsed_time:.2f} seconds\")\n",
    "    mydb.commit()"
   ]
  },
  {
   "cell_type": "code",
   "execution_count": 12,
   "id": "06963501",
   "metadata": {},
   "outputs": [
    {
     "name": "stdout",
     "output_type": "stream",
     "text": [
      "Elapsed time: 110.13 seconds\n",
      "Elapsed time: 20.23 seconds\n"
     ]
    }
   ],
   "source": [
    "loadData(\"corona-out-3.json\")\n",
    "loadData(\"corona-out-2.json\")"
   ]
  },
  {
   "cell_type": "code",
   "execution_count": 24,
   "id": "f714abba",
   "metadata": {},
   "outputs": [
    {
     "name": "stdout",
     "output_type": "stream",
     "text": [
      "(108043,)\n"
     ]
    }
   ],
   "source": [
    "mycursor.execute(\"select count(*) from users\")\n",
    "\n",
    "for x in mycursor:\n",
    "    print(x)"
   ]
  },
  {
   "cell_type": "code",
   "execution_count": 25,
   "id": "1d51780b",
   "metadata": {},
   "outputs": [],
   "source": [
    "mydb.close()"
   ]
  }
 ],
 "metadata": {
  "kernelspec": {
   "display_name": "Python 3 (ipykernel)",
   "language": "python",
   "name": "python3"
  },
  "language_info": {
   "codemirror_mode": {
    "name": "ipython",
    "version": 3
   },
   "file_extension": ".py",
   "mimetype": "text/x-python",
   "name": "python",
   "nbconvert_exporter": "python",
   "pygments_lexer": "ipython3",
   "version": "3.9.12"
  }
 },
 "nbformat": 4,
 "nbformat_minor": 5
}
