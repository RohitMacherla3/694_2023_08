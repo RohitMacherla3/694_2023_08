{
 "cells": [
  {
   "cell_type": "markdown",
   "id": "f9d9aaae",
   "metadata": {},
   "source": [
    "Requirements : MYSQL should be installed and running."
   ]
  },
  {
   "cell_type": "code",
   "execution_count": 1,
   "id": "89f86553",
   "metadata": {},
   "outputs": [],
   "source": [
    "import json\n",
    "from datetime import datetime\n",
    "import time"
   ]
  },
  {
   "cell_type": "code",
   "execution_count": 2,
   "id": "a984cdd9",
   "metadata": {},
   "outputs": [],
   "source": [
    "#pip install mysql-connector-python (Required if its your first time)"
   ]
  },
  {
   "cell_type": "code",
   "execution_count": 3,
   "id": "748da600",
   "metadata": {},
   "outputs": [
    {
     "name": "stdout",
     "output_type": "stream",
     "text": [
      "<mysql.connector.connection.MySQLConnection object at 0x7fb470aa6b50>\n"
     ]
    }
   ],
   "source": [
    "#Connecting to the MySQL server. Replace user and password with your credentials\n",
    "import mysql.connector\n",
    "\n",
    "mydb = mysql.connector.connect(\n",
    "  host=\"localhost\",\n",
    "  user=\"root\",\n",
    "  password=\"root@123\"\n",
    ")\n",
    "\n",
    "print(mydb)"
   ]
  },
  {
   "cell_type": "code",
   "execution_count": 4,
   "id": "ea855c9f",
   "metadata": {},
   "outputs": [],
   "source": [
    "#Creating a cursor object on the server\n",
    "mycursor = mydb.cursor(buffered=True)"
   ]
  },
  {
   "cell_type": "code",
   "execution_count": 5,
   "id": "8ddc5197",
   "metadata": {},
   "outputs": [],
   "source": [
    "#mycursor.execute(\"drop DATABASE mydatabase\") #Use this, if you want to restart building your database "
   ]
  },
  {
   "cell_type": "code",
   "execution_count": 6,
   "id": "e0adafe4",
   "metadata": {},
   "outputs": [],
   "source": [
    "mycursor.execute(\"CREATE DATABASE if not exists mydatabase\") #Creating the database"
   ]
  },
  {
   "cell_type": "code",
   "execution_count": 7,
   "id": "42679e5d",
   "metadata": {},
   "outputs": [],
   "source": [
    "#Now connecting to the database in the server, instead of just to the server.\n",
    "mydb = mysql.connector.connect(\n",
    "  host=\"localhost\",\n",
    "  user=\"root\",\n",
    "  password=\"root@123\",\n",
    "  database=\"mydatabase\"\n",
    ")\n",
    "\n",
    "mycursor = mydb.cursor(buffered=True)"
   ]
  },
  {
   "cell_type": "code",
   "execution_count": 8,
   "id": "1c9e7a16",
   "metadata": {},
   "outputs": [],
   "source": [
    "#Creating the users table with the following fields\n",
    "mycursor.execute('drop table if exists users')\n",
    "mycursor.execute('''CREATE TABLE if not exists users\n",
    "             (id VARCHAR(255) PRIMARY KEY,\n",
    "             name VARCHAR(255),\n",
    "             screen_name VARCHAR(255),\n",
    "             verified boolean,\n",
    "             followers_count BIGINT,\n",
    "             friends_count BIGINT,\n",
    "             created_at DATETIME,\n",
    "             location VARCHAR(255),\n",
    "             tweets_count BIGINT,\n",
    "             Description TEXT)''')\n",
    "\n",
    "mydb.commit()"
   ]
  },
  {
   "cell_type": "code",
   "execution_count": 10,
   "id": "e53b6161",
   "metadata": {},
   "outputs": [
    {
     "name": "stdout",
     "output_type": "stream",
     "text": [
      "Elapsed time: 30.79 seconds\n"
     ]
    }
   ],
   "source": [
    "#Extracting the user info from each tweet in the corona-out-3 file.\n",
    "#Reading the data by line to extract user info.\n",
    "#Finding out whether user already exists in the DB.\n",
    "#If not, create a dictionary to store the user details extracted.\n",
    "#Insert these values to the database and commit at the end.\n",
    "#Insertion time decreased significantly, by reading and creating the user dictionary in the else part.\n",
    "#Helpful especially because there are lot of duplicates, meaning a user has a lot of tweets.\n",
    "start_time = time.time()\n",
    "with open('corona-out-3.json', 'r') as f:\n",
    "    for line in f:\n",
    "        try:\n",
    "            data = json.loads(line)\n",
    "            query = '''SELECT * FROM users WHERE id=%s'''\n",
    "            mycursor.execute(query,(data['user']['id_str'],))\n",
    "            existing_user = mycursor.fetchone()\n",
    "            if existing_user:\n",
    "                existing_tweet_count = existing_user[8]\n",
    "                new_tweet_count= existing_tweet_count + 1\n",
    "                query = '''UPdate users set tweets_count = %s where id = %s'''\n",
    "                mycursor.execute(query,(new_tweet_count,data['user']['id_str'],))\n",
    "                continue\n",
    "            # If the user does not exist, insert the user data into the database\n",
    "            else:\n",
    "                date_time_obj = datetime.strptime(data['user']['created_at'], '%a %b %d %H:%M:%S %z %Y')\n",
    "                user_info = {'id': data['user']['id_str'],'name': data['user']['name'],\n",
    "                         'screen_name': data['user']['screen_name'],\n",
    "                        'verified':data['user']['verified'],\n",
    "                        'followers_count':data['user']['followers_count'],\n",
    "                        'friends_count':data['user']['friends_count'],\n",
    "                        'created_at':date_time_obj,\n",
    "                            'location' : data['user']['location'],\n",
    "                            'Description':data['user']['description']}\n",
    "                query = \"\"\"INSERT INTO users (id, screen_name, name,verified,followers_count,friends_count,created_at,location,tweets_count,Description) VALUES (%s, %s, %s,%s,%s,%s,%s,%s,%s,%s)\"\"\"\n",
    "                val= (user_info['id'],user_info['screen_name'],user_info['name'],user_info['verified'],user_info['followers_count'],user_info['friends_count'],user_info['created_at'],user_info['location'],1,user_info['Description'])\n",
    "                mycursor.execute(query,val)\n",
    "            if 'retweeted_status' in data:\n",
    "                query = '''SELECT * FROM users WHERE id=%s'''\n",
    "                mycursor.execute(query,(data['retweeted_status']['user']['id_str'],))\n",
    "                existing_user = mycursor.fetchone()\n",
    "                if existing_user:\n",
    "                    existing_tweet_count = existing_user[8]\n",
    "                    new_tweet_count= existing_tweet_count + 1\n",
    "                    query = '''UPdate users set tweets_count = %s where id = %s'''\n",
    "                    mycursor.execute(query,(new_tweet_count,data['retweeted_status']['user']['id_str'],))\n",
    "                    continue\n",
    "            # If the user does not exist, insert the user data into the database\n",
    "                else:\n",
    "                    date_time_obj = datetime.strptime(data['retweeted_status']['user']['created_at'], '%a %b %d %H:%M:%S %z %Y')\n",
    "                    user_info = {'id': data['retweeted_status']['user']['id_str'],'name': data['retweeted_status']['user']['name'],\n",
    "                         'screen_name': data['retweeted_status']['user']['screen_name'],\n",
    "                        'verified':data['retweeted_status']['user']['verified'],\n",
    "                        'followers_count':data['retweeted_status']['user']['followers_count'],\n",
    "                        'friends_count':data['retweeted_status']['user']['friends_count'],\n",
    "                        'created_at':date_time_obj,\n",
    "                            'location' : data['retweeted_status']['user']['location'],\n",
    "                                'Description':data['retweeted_status']['user']['description']}\n",
    "                    query = \"\"\"INSERT INTO users (id, screen_name, name,verified,followers_count,friends_count,created_at,location,tweets_count,Description) VALUES (%s, %s, %s,%s,%s,%s,%s,%s,%s,%s)\"\"\"\n",
    "                    val= (user_info['id'],user_info['screen_name'],user_info['name'],user_info['verified'],user_info['followers_count'],user_info['friends_count'],user_info['created_at'],user_info['location'],1,user_info[\"Description\"])\n",
    "                    mycursor.execute(query,val)\n",
    "            if 'quoted_status' in data:\n",
    "                query = '''SELECT * FROM users WHERE id=%s'''\n",
    "                mycursor.execute(query,(data['quoted_status']['user']['id_str'],))\n",
    "                existing_user = mycursor.fetchone()\n",
    "                if existing_user:\n",
    "                    existing_tweet_count = existing_user[8]\n",
    "                    new_tweet_count= existing_tweet_count + 1\n",
    "                    query = '''UPdate users set tweets_count = %s where id = %s'''\n",
    "                    mycursor.execute(query,(new_tweet_count,data['quoted_status']['user']['id_str'],))\n",
    "                    continue\n",
    "            # If the user does not exist, insert the user data into the database\n",
    "                else:\n",
    "                    date_time_obj = datetime.strptime(data['quoted_status']['user']['created_at'], '%a %b %d %H:%M:%S %z %Y')\n",
    "                    user_info = {'id': data['quoted_status']['user']['id_str'],'name': data['quoted_status']['user']['name'],\n",
    "                         'screen_name': data['quoted_status']['user']['screen_name'],\n",
    "                        'verified':data['quoted_status']['user']['verified'],\n",
    "                        'followers_count':data['quoted_status']['user']['followers_count'],\n",
    "                        'friends_count':data['quoted_status']['user']['friends_count'],\n",
    "                        'created_at':date_time_obj,\n",
    "                            'location' : data['quoted_status']['user']['location'],\n",
    "                                'Description':data['quoted_status']['user']['description']}\n",
    "                    query = \"\"\"INSERT INTO users (id, screen_name, name,verified,followers_count,friends_count,created_at,location,tweets_count,Description) VALUES (%s, %s, %s,%s,%s,%s,%s,%s,%s,%s)\"\"\"\n",
    "                    val= (user_info['id'],user_info['screen_name'],user_info['name'],user_info['verified'],user_info['followers_count'],user_info['friends_count'],user_info['created_at'],user_info['location'],1,user_info['Description'])\n",
    "                    mycursor.execute(query,val)\n",
    "        except Exception as e:\n",
    "            #print(e)\n",
    "            continue\n",
    "end_time = time.time()\n",
    "elapsed_time = end_time - start_time\n",
    "\n",
    "# Print the elapsed time\n",
    "print(f\"Elapsed time: {elapsed_time:.2f} seconds\")\n",
    "\n",
    "mydb.commit()"
   ]
  },
  {
   "cell_type": "code",
   "execution_count": 13,
   "id": "4816fd7f",
   "metadata": {},
   "outputs": [
    {
     "name": "stdout",
     "output_type": "stream",
     "text": [
      "(95654,)\n"
     ]
    }
   ],
   "source": [
    "mycursor.execute(\"select count(*) from users\")\n",
    "\n",
    "for x in mycursor:\n",
    "    print(x)"
   ]
  },
  {
   "cell_type": "code",
   "execution_count": 12,
   "id": "06963501",
   "metadata": {},
   "outputs": [
    {
     "name": "stdout",
     "output_type": "stream",
     "text": [
      "Elapsed time: 6.18 seconds\n"
     ]
    }
   ],
   "source": [
    "#Extracting the user info from each tweet in the corona-out-3 file.\n",
    "#Reading the data by line to extract user info.\n",
    "#Finding out whether user already exists in the DB.\n",
    "#If not, create a dictionary to store the user details extracted.\n",
    "#Insert these values to the database and commit at the end.\n",
    "#Insertion time decreased significantly, by reading and creating the user dictionary in the else part.\n",
    "#Helpful especially because there are lot of duplicates, meaning a user has a lot of tweets.\n",
    "start_time = time.time()\n",
    "with open('corona-out-2.json', 'r') as f:\n",
    "    for line in f:\n",
    "        try:\n",
    "            data = json.loads(line)\n",
    "            query = '''SELECT * FROM users WHERE id=%s'''\n",
    "            mycursor.execute(query,(data['user']['id_str'],))\n",
    "            existing_user = mycursor.fetchone()\n",
    "            if existing_user:\n",
    "                existing_tweet_count = existing_user[8]\n",
    "                new_tweet_count= existing_tweet_count + 1\n",
    "                query = '''UPdate users set tweets_count = %s where id = %s'''\n",
    "                mycursor.execute(query,(new_tweet_count,data['user']['id_str'],))\n",
    "                continue\n",
    "            # If the user does not exist, insert the user data into the database\n",
    "            else:\n",
    "                date_time_obj = datetime.strptime(data['user']['created_at'], '%a %b %d %H:%M:%S %z %Y')\n",
    "                user_info = {'id': data['user']['id_str'],'name': data['user']['name'],\n",
    "                         'screen_name': data['user']['screen_name'],\n",
    "                        'verified':data['user']['verified'],\n",
    "                        'followers_count':data['user']['followers_count'],\n",
    "                        'friends_count':data['user']['friends_count'],\n",
    "                        'created_at':date_time_obj,\n",
    "                            'location' : data['user']['location'],\n",
    "                            'Description':data['user']['description']}\n",
    "                query = \"\"\"INSERT INTO users (id, screen_name, name,verified,followers_count,friends_count,created_at,location,tweets_count,Description) VALUES (%s, %s, %s,%s,%s,%s,%s,%s,%s,%s)\"\"\"\n",
    "                val= (user_info['id'],user_info['screen_name'],user_info['name'],user_info['verified'],user_info['followers_count'],user_info['friends_count'],user_info['created_at'],user_info['location'],1,user_info['Description'])\n",
    "                mycursor.execute(query,val)\n",
    "            if 'retweeted_status' in data:\n",
    "                query = '''SELECT * FROM users WHERE id=%s'''\n",
    "                mycursor.execute(query,(data['retweeted_status']['user']['id_str'],))\n",
    "                existing_user = mycursor.fetchone()\n",
    "                if existing_user:\n",
    "                    existing_tweet_count = existing_user[8]\n",
    "                    new_tweet_count= existing_tweet_count + 1\n",
    "                    query = '''UPdate users set tweets_count = %s where id = %s'''\n",
    "                    mycursor.execute(query,(new_tweet_count,data['retweeted_status']['user']['id_str'],))\n",
    "                    continue\n",
    "            # If the user does not exist, insert the user data into the database\n",
    "                else:\n",
    "                    date_time_obj = datetime.strptime(data['retweeted_status']['user']['created_at'], '%a %b %d %H:%M:%S %z %Y')\n",
    "                    user_info = {'id': data['retweeted_status']['user']['id_str'],'name': data['retweeted_status']['user']['name'],\n",
    "                         'screen_name': data['retweeted_status']['user']['screen_name'],\n",
    "                        'verified':data['retweeted_status']['user']['verified'],\n",
    "                        'followers_count':data['retweeted_status']['user']['followers_count'],\n",
    "                        'friends_count':data['retweeted_status']['user']['friends_count'],\n",
    "                        'created_at':date_time_obj,\n",
    "                            'location' : data['retweeted_status']['user']['location'],\n",
    "                                'Description':data['retweeted_status']['user']['description']}\n",
    "                    query = \"\"\"INSERT INTO users (id, screen_name, name,verified,followers_count,friends_count,created_at,location,tweets_count,Description) VALUES (%s, %s, %s,%s,%s,%s,%s,%s,%s,%s)\"\"\"\n",
    "                    val= (user_info['id'],user_info['screen_name'],user_info['name'],user_info['verified'],user_info['followers_count'],user_info['friends_count'],user_info['created_at'],user_info['location'],1,user_info[\"Description\"])\n",
    "                    mycursor.execute(query,val)\n",
    "            if 'quoted_status' in data:\n",
    "                query = '''SELECT * FROM users WHERE id=%s'''\n",
    "                mycursor.execute(query,(data['quoted_status']['user']['id_str'],))\n",
    "                existing_user = mycursor.fetchone()\n",
    "                if existing_user:\n",
    "                    existing_tweet_count = existing_user[8]\n",
    "                    new_tweet_count= existing_tweet_count + 1\n",
    "                    query = '''UPdate users set tweets_count = %s where id = %s'''\n",
    "                    mycursor.execute(query,(new_tweet_count,data['quoted_status']['user']['id_str'],))\n",
    "                    continue\n",
    "            # If the user does not exist, insert the user data into the database\n",
    "                else:\n",
    "                    date_time_obj = datetime.strptime(data['quoted_status']['user']['created_at'], '%a %b %d %H:%M:%S %z %Y')\n",
    "                    user_info = {'id': data['quoted_status']['user']['id_str'],'name': data['quoted_status']['user']['name'],\n",
    "                         'screen_name': data['quoted_status']['user']['screen_name'],\n",
    "                        'verified':data['quoted_status']['user']['verified'],\n",
    "                        'followers_count':data['quoted_status']['user']['followers_count'],\n",
    "                        'friends_count':data['quoted_status']['user']['friends_count'],\n",
    "                        'created_at':date_time_obj,\n",
    "                            'location' : data['quoted_status']['user']['location'],\n",
    "                                'Description':data['quoted_status']['user']['description']}\n",
    "                    query = \"\"\"INSERT INTO users (id, screen_name, name,verified,followers_count,friends_count,created_at,location,tweets_count,Description) VALUES (%s, %s, %s,%s,%s,%s,%s,%s,%s,%s)\"\"\"\n",
    "                    val= (user_info['id'],user_info['screen_name'],user_info['name'],user_info['verified'],user_info['followers_count'],user_info['friends_count'],user_info['created_at'],user_info['location'],1,user_info['Description'])\n",
    "                    mycursor.execute(query,val)\n",
    "        except Exception as e:\n",
    "            #print(e)\n",
    "            continue\n",
    "end_time = time.time()\n",
    "elapsed_time = end_time - start_time\n",
    "\n",
    "# Print the elapsed time\n",
    "print(f\"Elapsed time: {elapsed_time:.2f} seconds\")\n",
    "\n",
    "mydb.commit()"
   ]
  },
  {
   "cell_type": "code",
   "execution_count": 14,
   "id": "92d214dc",
   "metadata": {},
   "outputs": [],
   "source": [
    "mydb.commit()"
   ]
  }
 ],
 "metadata": {
  "kernelspec": {
   "display_name": "Python 3 (ipykernel)",
   "language": "python",
   "name": "python3"
  },
  "language_info": {
   "codemirror_mode": {
    "name": "ipython",
    "version": 3
   },
   "file_extension": ".py",
   "mimetype": "text/x-python",
   "name": "python",
   "nbconvert_exporter": "python",
   "pygments_lexer": "ipython3",
   "version": "3.9.12"
  }
 },
 "nbformat": 4,
 "nbformat_minor": 5
}
