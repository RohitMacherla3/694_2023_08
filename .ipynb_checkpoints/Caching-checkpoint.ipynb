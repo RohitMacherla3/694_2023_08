{
 "cells": [
  {
   "cell_type": "code",
   "execution_count": null,
   "id": "72cc45d4",
   "metadata": {},
   "outputs": [],
   "source": [
    "import time\n",
    "import pickle\n",
    "\n",
    "class Cache:\n",
    "    def __init__(self, max_size=1000, evict_strategy='least_accessed', checkpoint_interval=3600, ttl=None):\n",
    "        self.max_size = max_size\n",
    "        self.evict_strategy = evict_strategy\n",
    "        self.checkpoint_interval = checkpoint_interval\n",
    "        self.ttl = ttl\n",
    "        self.cache = {}\n",
    "        self.access_count = {}\n",
    "        self.last_checkpoint = time.time()\n",
    "\n",
    "    def load_from_checkpoint(self, checkpoint_file):\n",
    "        with open(checkpoint_file, 'rb') as f:\n",
    "            self.cache, self.access_count = pickle.load(f)\n",
    "\n",
    "    def save_to_checkpoint(self, checkpoint_file):\n",
    "        with open(checkpoint_file, 'wb') as f:\n",
    "            pickle.dump((self.cache, self.access_count), f)\n",
    "\n",
    "    def get(self, key):\n",
    "        if key not in self.cache:\n",
    "            return None\n",
    "        if self.ttl is not None and (time.time() - self.cache[key]['timestamp']) > self.ttl:\n",
    "            del self.cache[key]\n",
    "            del self.access_count[key]\n",
    "            return None\n",
    "        self.access_count[key] += 1\n",
    "        if self.evict_strategy == 'least_accessed':\n",
    "            least_accessed_key = min(self.access_count, key=self.access_count.get)\n",
    "            if len(self.cache) > self.max_size and key != least_accessed_key:\n",
    "                del self.cache[least_accessed_key]\n",
    "                del self.access_count[least_accessed_key]\n",
    "        return self.cache[key]['value']\n",
    "\n",
    "    def put(self, key, value):\n",
    "        self.cache[key] = {'value': value, 'timestamp': time.time()}\n",
    "        self.access_count[key] = 0\n",
    "        if len(self.cache) > self.max_size:\n",
    "            if self.evict_strategy == 'least_accessed':\n",
    "                least_accessed_key = min(self.access_count, key=self.access_count.get)\n",
    "                del self.cache[least_accessed_key]\n",
    "                del self.access_count[least_accessed_key]\n",
    "            elif self.evict_strategy == 'oldest':\n",
    "                oldest_key = min(self.cache, key=lambda k: self.cache[k]['timestamp'])\n",
    "                del self.cache[oldest_key]\n",
    "                del self.access_count[oldest_key]\n",
    "        if (time.time() - self.last_checkpoint) > self.checkpoint_interval:\n",
    "            self.save_to_checkpoint('cache.checkpoint')\n",
    "            self.last_checkpoint = time.time()\n"
   ]
  }
 ],
 "metadata": {
  "kernelspec": {
   "display_name": "Python 3 (ipykernel)",
   "language": "python",
   "name": "python3"
  },
  "language_info": {
   "codemirror_mode": {
    "name": "ipython",
    "version": 3
   },
   "file_extension": ".py",
   "mimetype": "text/x-python",
   "name": "python",
   "nbconvert_exporter": "python",
   "pygments_lexer": "ipython3",
   "version": "3.9.12"
  }
 },
 "nbformat": 4,
 "nbformat_minor": 5
}
