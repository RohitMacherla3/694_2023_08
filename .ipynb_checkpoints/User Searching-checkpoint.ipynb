{
 "cells": [
  {
   "cell_type": "code",
   "execution_count": 1,
   "id": "62115f98",
   "metadata": {},
   "outputs": [],
   "source": [
    "# Import Libraries\n",
    "import pymongo\n",
    "import json\n",
    "from bson.objectid import ObjectId\n",
    "from datetime import datetime\n",
    "\n",
    "import time\n",
    "import mysql.connector as cnx"
   ]
  },
  {
   "cell_type": "code",
   "execution_count": 2,
   "id": "7f9b4960",
   "metadata": {},
   "outputs": [],
   "source": [
    "mydb = cnx.connect(\n",
    "  host=\"localhost\",\n",
    "  user=\"root\",\n",
    "  password=\"root@123\",\n",
    "  database=\"mydatabase\"\n",
    ")\n",
    "\n",
    "mycursor = mydb.cursor(buffered=True)"
   ]
  },
  {
   "cell_type": "code",
   "execution_count": 3,
   "id": "9ef69713",
   "metadata": {},
   "outputs": [],
   "source": [
    "client = pymongo.MongoClient(\"mongodb://localhost:27017/\") \n",
    "db = client[\"Tweets_DB\"]\n",
    "tweets_collec = db[\"Tweets_data\"]"
   ]
  },
  {
   "cell_type": "code",
   "execution_count": 4,
   "id": "93caba75",
   "metadata": {},
   "outputs": [],
   "source": [
    "# check if the search term starts with '@'\n",
    "def UserSearch(search_term):\n",
    "    \n",
    "    if search_term.startswith('@'):\n",
    "    # remove the '@' symbol from the search term\n",
    "        search_term = search_term[1:]\n",
    "    \n",
    "    # execute the query to search for user details based on username\n",
    "        query = \"\"\"\n",
    "            SELECT * FROM users \n",
    "            WHERE name LIKE %s \n",
    "            ORDER BY followers_count DESC, tweets_count DESC, verified DESC\n",
    "            LIMIT 5\n",
    "            \"\"\"\n",
    "        mycursor.execute(query, ('%' + search_term + '%',))\n",
    "        results = mycursor.fetchall()\n",
    "        return results"
   ]
  },
  {
   "cell_type": "code",
   "execution_count": 5,
   "id": "b6d26bc9",
   "metadata": {},
   "outputs": [],
   "source": [
    "def get_user_tweets(user_id):\n",
    "    user_tweets = list(tweets_collec.find({'User_Id': user_id}).sort([('created_at', -1)]).limit(3))\n",
    "    tweet_details = []\n",
    "    for tweet in user_tweets:\n",
    "        tweet_details.append({\n",
    "            'created_at': tweet['created_at'],\n",
    "            'text': tweet['Text'],\n",
    "            'hashtags': tweet['Hashtag'],\n",
    "            'retweet_count': tweet['Retweet_Count'],\n",
    "            'likes_count': tweet['Likes_Count']\n",
    "        })\n",
    "    return tweet_details"
   ]
  },
  {
   "cell_type": "code",
   "execution_count": 6,
   "id": "a00e085a",
   "metadata": {},
   "outputs": [],
   "source": [
    "tweets_cache={}\n",
    "def UserPrint(results):\n",
    "    for result in results:\n",
    "        user_id = result[0]\n",
    "        tweets_cache[user_id] = get_user_tweets(user_id)\n",
    "        if result[3]==1:\n",
    "            verified_status=\"✅\"\n",
    "        else:\n",
    "            verified_status=\"❌\"\n",
    "            \n",
    "        line1 = \"ID: {} | Name: {} | Verified: {}\".format(result[0], result[1], verified_status)\n",
    "        # format the remaining fields in another line\n",
    "        line2 = \"Followers: {} | Tweets: {}\".format(result[4], result[8])\n",
    "        line3 = \"Description : {}\".format(result[9])\n",
    "        line4=\"Location : {} | Creation Date:{}\".format(result[7],result[6])\n",
    "        \n",
    "        # print both lines\n",
    "        print(line1)\n",
    "        print(line2)\n",
    "        print(line3)\n",
    "        print(line4)\n",
    "        print(\"--------------------------------------------\")"
   ]
  },
  {
   "cell_type": "code",
   "execution_count": 10,
   "id": "b0abbb06",
   "metadata": {},
   "outputs": [
    {
     "name": "stdout",
     "output_type": "stream",
     "text": [
      "Enter the search term: @sai\n",
      "ID: 56304605 | Name: Rajdeep Sardesai | Verified: ✅\n",
      "Followers: 8947331 | Tweets: 1\n",
      "Description : Citizen first. Only 'ism' is humanism. newsman, tv anchor, author, father, friend. New book: 2019: How Modi Won India. pre order here: http://bit.ly/HowModiWon\n",
      "Location : New Delhi | Creation Date:2009-07-13 06:14:44\n",
      "--------------------------------------------\n",
      "ID: 260114837 | Name: Saint Laurent Don | Verified: ✅\n",
      "Followers: 3691645 | Tweets: 1\n",
      "Description : SavageMode\n",
      "Location : Atlanta, GA | Creation Date:2011-03-03 06:42:26\n",
      "--------------------------------------------\n",
      "ID: 286042531 | Name: Syed Talat Hussain | Verified: ✅\n",
      "Followers: 3348942 | Tweets: 1\n",
      "Description : Journalist, writer, obsessive jogger, voracious reader, massive meat-eater\n",
      "Location : Islamabad | Creation Date:2011-04-22 07:21:57\n",
      "--------------------------------------------\n",
      "Load more results? (yes/no) no\n",
      "Enter the number of the user whose tweets you want to see: 1\n",
      "Tweets of Rajdeep Sardesai:\n",
      "{'created_at': '2020-04-25 14:31:57', 'text': '9 pm: SAARC round table against corona: doctors from across region join in; Trump’s corona gaffes: the view from Wa… https://t.co/xNbXRFrec4', 'hashtags': [], 'retweet_count': 9, 'likes_count': 0}\n",
      "{'created_at': '2020-04-25 12:29:54', 'text': 'Today 9 pm: doctors from across South Asia come together on one platform.. nos of Covid positive patients across so… https://t.co/DMBBRYOq0m', 'hashtags': [], 'retweet_count': 35, 'likes_count': 0}\n",
      "{'created_at': '2020-04-25 03:13:14', 'text': 'Intriguing that govt wants private sector to show ‘human’ face in corona times (no salary cuts/retrenchments) but f… https://t.co/MmOmbrqM3f', 'hashtags': [], 'retweet_count': 82, 'likes_count': 4146}\n"
     ]
    }
   ],
   "source": [
    "search_term = input(\"Enter the search term: \")\n",
    "results=UserSearch(search_term)\n",
    "UserPrint(results[:3])\n",
    "    # check if there are more results\n",
    "if len(results) > 3:\n",
    "        # prompt the user to load more results\n",
    "    load_more = input(\"Load more results? (yes/no) \")\n",
    "    if load_more.lower().startswith('y'):\n",
    "        UserPrint(results[3:5])\n",
    "user_choice = int(input(\"Enter the number of the user whose tweets you want to see: \"))\n",
    "\n",
    "# Get the user_id of the selected user\n",
    "user_id = results[user_choice-1][0]\n",
    "\n",
    "# Display the tweets of the selected user\n",
    "\n",
    "if user_id in tweets_cache:\n",
    "    print(f\"Tweets of {results[user_choice-1][1]}:\")\n",
    "    for tweet in tweets_cache[user_id]:\n",
    "        print(tweet)\n",
    "else:\n",
    "    print(\"No tweets found for the selected user.\")"
   ]
  }
 ],
 "metadata": {
  "kernelspec": {
   "display_name": "Python 3 (ipykernel)",
   "language": "python",
   "name": "python3"
  },
  "language_info": {
   "codemirror_mode": {
    "name": "ipython",
    "version": 3
   },
   "file_extension": ".py",
   "mimetype": "text/x-python",
   "name": "python",
   "nbconvert_exporter": "python",
   "pygments_lexer": "ipython3",
   "version": "3.9.12"
  }
 },
 "nbformat": 4,
 "nbformat_minor": 5
}
