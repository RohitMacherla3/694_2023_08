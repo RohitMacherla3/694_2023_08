{
 "cells": [
  {
   "cell_type": "code",
   "execution_count": 1,
   "id": "a7b365b7",
   "metadata": {},
   "outputs": [],
   "source": [
    "# Install Packages\n",
    "# !pip install pymongo\n",
    "# !pip freeze"
   ]
  },
  {
   "cell_type": "code",
   "execution_count": 2,
   "id": "495a7f54",
   "metadata": {},
   "outputs": [],
   "source": [
    "# Import Libraries\n",
    "import pymongo\n",
    "import json\n",
    "from bson.objectid import ObjectId\n",
    "from datetime import datetime\n",
    "import pandas as pd"
   ]
  },
  {
   "cell_type": "code",
   "execution_count": 3,
   "id": "1ab32e00",
   "metadata": {},
   "outputs": [
    {
     "name": "stdout",
     "output_type": "stream",
     "text": [
      "Database already exists. Will be dropped...\n",
      "Database connection established\n"
     ]
    }
   ],
   "source": [
    "#Establish the connection and make the database\n",
    "client = pymongo.MongoClient(\"mongodb://localhost:27017/\") \n",
    "db_list = client.list_database_names()\n",
    "if \"Tweets_DB\" in db_list:\n",
    "    print(\"Database already exists. Will be dropped...\")\n",
    "    client.drop_database(\"Tweets_DB\")\n",
    "db = client[\"Tweets_DB\"]\n",
    "col_list = db.list_collection_names()\n",
    "if \"Tweets_data\" in col_list:\n",
    "        print(\"Tweets Collection already exists. Will be dropped...\")\n",
    "        db.Tweets_data.drop()\n",
    "tweets_collec = db[\"Tweets_data\"]\n",
    "print(\"Database connection established\")"
   ]
  },
  {
   "cell_type": "code",
   "execution_count": 4,
   "id": "3e39d474",
   "metadata": {},
   "outputs": [],
   "source": [
    "def insert_data(data):\n",
    "    tweets_collec.insert_one(data)"
   ]
  },
  {
   "cell_type": "code",
   "execution_count": 5,
   "id": "73360d9e",
   "metadata": {},
   "outputs": [],
   "source": [
    "with open('corona-out-2', \"r\") as read_file:\n",
    "    for line in read_file:\n",
    "        try:\n",
    "            data = json.loads(line)\n",
    "            if data['text'].startswith('RT'):\n",
    "                if data['retweeted_status']!=None:\n",
    "                    RetweetID = data['retweeted_status']['id_str']\n",
    "            else:\n",
    "                RetweetID = 0\n",
    "\n",
    "\n",
    "            tweet_info = {\n",
    "                'created_at':datetime.strftime(datetime.strptime(data['created_at'],'%a %b %d %H:%M:%S +0000 %Y'),'%Y-%m-%d %H:%M:%S'),\n",
    "                'TweetID':data['id_str'],\n",
    "                'Text':data['text'],\n",
    "                'Hashtag':list(map(lambda x: x[\"text\"], data['entities']['hashtags'])),\n",
    "                'UserID':data['user']['id_str'],\n",
    "                'Retweet_Count': 0,\n",
    "                'Retweet_ID':RetweetID\n",
    "            }\n",
    "\n",
    "            insert_data(tweet_info)\n",
    "\n",
    "        except:\n",
    "            continue"
   ]
  },
  {
   "cell_type": "code",
   "execution_count": 6,
   "id": "9ffc15e1",
   "metadata": {},
   "outputs": [
    {
     "data": {
      "text/plain": [
       "18515"
      ]
     },
     "execution_count": 6,
     "metadata": {},
     "output_type": "execute_result"
    }
   ],
   "source": [
    "tweets_collec.count_documents({})"
   ]
  }
 ],
 "metadata": {
  "kernelspec": {
   "display_name": "Python 3 (ipykernel)",
   "language": "python",
   "name": "python3"
  },
  "language_info": {
   "codemirror_mode": {
    "name": "ipython",
    "version": 3
   },
   "file_extension": ".py",
   "mimetype": "text/x-python",
   "name": "python",
   "nbconvert_exporter": "python",
   "pygments_lexer": "ipython3",
   "version": "3.10.8"
  }
 },
 "nbformat": 4,
 "nbformat_minor": 5
}
