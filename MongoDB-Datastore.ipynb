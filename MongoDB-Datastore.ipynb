{
 "cells": [
  {
   "cell_type": "code",
   "execution_count": 1,
   "id": "a7b365b7",
   "metadata": {},
   "outputs": [],
   "source": [
    "# Install Packages\n",
    "# !pip install pymongo\n",
    "# !pip freeze"
   ]
  },
  {
   "cell_type": "code",
   "execution_count": 2,
   "id": "495a7f54",
   "metadata": {},
   "outputs": [],
   "source": [
    "# Import Libraries\n",
    "import pymongo\n",
    "import json\n",
    "from bson.objectid import ObjectId\n",
    "from datetime import datetime\n",
    "import pandas as pd"
   ]
  },
  {
   "cell_type": "code",
   "execution_count": 14,
   "id": "1ab32e00",
   "metadata": {},
   "outputs": [
    {
     "name": "stdout",
     "output_type": "stream",
     "text": [
      "Database already exists. Will be dropped...\n",
      "Database connection established\n"
     ]
    }
   ],
   "source": [
    "#Establish the connection and make the database\n",
    "client = pymongo.MongoClient(\"mongodb://localhost:27017/\") \n",
    "db_list = client.list_database_names()\n",
    "if \"Tweets_DB\" in db_list:\n",
    "    print(\"Database already exists. Will be dropped...\")\n",
    "    client.drop_database(\"Tweets_DB\")\n",
    "db = client[\"Tweets_DB\"]\n",
    "col_list = db.list_collection_names()\n",
    "if \"Tweets_data\" in col_list:\n",
    "        print(\"Tweets Collection already exists. Will be dropped...\")\n",
    "        db.Tweets_data.drop()\n",
    "tweets_collec = db[\"Tweets_data\"]\n",
    "print(\"Database connection established\")"
   ]
  },
  {
   "cell_type": "code",
   "execution_count": 15,
   "id": "afd423d2",
   "metadata": {},
   "outputs": [
    {
     "data": {
      "text/plain": [
       "<pymongo.results.InsertOneResult at 0x1198b5b40>"
      ]
     },
     "execution_count": 15,
     "metadata": {},
     "output_type": "execute_result"
    }
   ],
   "source": [
    "# adding collection to the database\n",
    "tweets_collec.insert_one({\"id\": 1, \"User_Name\": \"Rohit\"})"
   ]
  },
  {
   "cell_type": "code",
   "execution_count": 16,
   "id": "a5ddae34",
   "metadata": {},
   "outputs": [
    {
     "data": {
      "text/plain": [
       "1"
      ]
     },
     "execution_count": 16,
     "metadata": {},
     "output_type": "execute_result"
    }
   ],
   "source": [
    "tweets_collec.count_documents({})"
   ]
  },
  {
   "cell_type": "code",
   "execution_count": 17,
   "id": "81e78e0e",
   "metadata": {},
   "outputs": [
    {
     "data": {
      "text/plain": [
       "['Tweets_DB', 'admin', 'config', 'local']"
      ]
     },
     "execution_count": 17,
     "metadata": {},
     "output_type": "execute_result"
    }
   ],
   "source": [
    "client.list_database_names()"
   ]
  }
 ],
 "metadata": {
  "kernelspec": {
   "display_name": "Python 3 (ipykernel)",
   "language": "python",
   "name": "python3"
  },
  "language_info": {
   "codemirror_mode": {
    "name": "ipython",
    "version": 3
   },
   "file_extension": ".py",
   "mimetype": "text/x-python",
   "name": "python",
   "nbconvert_exporter": "python",
   "pygments_lexer": "ipython3",
   "version": "3.10.8"
  }
 },
 "nbformat": 4,
 "nbformat_minor": 5
}
