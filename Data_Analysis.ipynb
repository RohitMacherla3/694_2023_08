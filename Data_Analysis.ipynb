{
 "cells": [
  {
   "cell_type": "code",
   "execution_count": null,
   "id": "31c38733",
   "metadata": {},
   "outputs": [],
   "source": [
    "## Data Analysis File "
   ]
  },
  {
   "cell_type": "code",
   "execution_count": 1,
   "id": "711cd7e6",
   "metadata": {},
   "outputs": [],
   "source": [
    "import pandas as pd\n",
    "import matplotlib.pyplot as plt\n",
    "import seaborn as sns\n",
    "import numpy as np\n",
    "from textblob import TextBlob\n",
    "from wordcloud import WordCloud\n",
    "from nltk.corpus import stopwords\n",
    "from collections import Counter\n",
    "import re"
   ]
  },
  {
   "cell_type": "code",
   "execution_count": 2,
   "id": "39c0c9da",
   "metadata": {},
   "outputs": [],
   "source": [
    "data1=pd.read_json(\"corona-out-2\",lines=True)\n",
    "data2=pd.read_json(\"corona-out-3\",lines=True)"
   ]
  },
  {
   "cell_type": "code",
   "execution_count": 3,
   "id": "effac387",
   "metadata": {},
   "outputs": [],
   "source": [
    "data2 = data2[list(data1.columns)]"
   ]
  },
  {
   "cell_type": "code",
   "execution_count": 4,
   "id": "6b3e00a3",
   "metadata": {},
   "outputs": [
    {
     "name": "stderr",
     "output_type": "stream",
     "text": [
      "/var/folders/7p/67dbkxr522v68b197j60h5g80000gn/T/ipykernel_97252/1311122475.py:1: FutureWarning: The frame.append method is deprecated and will be removed from pandas in a future version. Use pandas.concat instead.\n",
      "  twitter_data=data1.append(data2)\n"
     ]
    }
   ],
   "source": [
    "twitter_data=data1.append(data2)"
   ]
  },
  {
   "cell_type": "code",
   "execution_count": 5,
   "id": "db79fced",
   "metadata": {},
   "outputs": [
    {
     "data": {
      "text/html": [
       "<div>\n",
       "<style scoped>\n",
       "    .dataframe tbody tr th:only-of-type {\n",
       "        vertical-align: middle;\n",
       "    }\n",
       "\n",
       "    .dataframe tbody tr th {\n",
       "        vertical-align: top;\n",
       "    }\n",
       "\n",
       "    .dataframe thead th {\n",
       "        text-align: right;\n",
       "    }\n",
       "</style>\n",
       "<table border=\"1\" class=\"dataframe\">\n",
       "  <thead>\n",
       "    <tr style=\"text-align: right;\">\n",
       "      <th></th>\n",
       "      <th>created_at</th>\n",
       "      <th>id</th>\n",
       "      <th>id_str</th>\n",
       "      <th>text</th>\n",
       "      <th>source</th>\n",
       "      <th>truncated</th>\n",
       "      <th>in_reply_to_status_id</th>\n",
       "      <th>in_reply_to_status_id_str</th>\n",
       "      <th>in_reply_to_user_id</th>\n",
       "      <th>in_reply_to_user_id_str</th>\n",
       "      <th>...</th>\n",
       "      <th>favorited</th>\n",
       "      <th>retweeted</th>\n",
       "      <th>filter_level</th>\n",
       "      <th>lang</th>\n",
       "      <th>timestamp_ms</th>\n",
       "      <th>display_text_range</th>\n",
       "      <th>extended_tweet</th>\n",
       "      <th>possibly_sensitive</th>\n",
       "      <th>extended_entities</th>\n",
       "      <th>withheld_in_countries</th>\n",
       "    </tr>\n",
       "  </thead>\n",
       "  <tbody>\n",
       "    <tr>\n",
       "      <th>0</th>\n",
       "      <td>2020-04-12 18:27:25+00:00</td>\n",
       "      <td>1249403767180668930</td>\n",
       "      <td>1249403767180668928</td>\n",
       "      <td>RT @nuffsaidny: wishing death on people is wei...</td>\n",
       "      <td>&lt;a href=\"http://twitter.com/download/iphone\" r...</td>\n",
       "      <td>False</td>\n",
       "      <td>NaN</td>\n",
       "      <td>NaN</td>\n",
       "      <td>NaN</td>\n",
       "      <td>NaN</td>\n",
       "      <td>...</td>\n",
       "      <td>False</td>\n",
       "      <td>False</td>\n",
       "      <td>low</td>\n",
       "      <td>en</td>\n",
       "      <td>2020-04-12 18:27:25.552</td>\n",
       "      <td>NaN</td>\n",
       "      <td>NaN</td>\n",
       "      <td>NaN</td>\n",
       "      <td>NaN</td>\n",
       "      <td>NaN</td>\n",
       "    </tr>\n",
       "    <tr>\n",
       "      <th>1</th>\n",
       "      <td>2020-04-12 18:27:25+00:00</td>\n",
       "      <td>1249403768023678982</td>\n",
       "      <td>1249403768023678976</td>\n",
       "      <td>RT @lale_karanfil: In Turkey, there are 300 th...</td>\n",
       "      <td>&lt;a href=\"https://mobile.twitter.com\" rel=\"nofo...</td>\n",
       "      <td>False</td>\n",
       "      <td>NaN</td>\n",
       "      <td>NaN</td>\n",
       "      <td>NaN</td>\n",
       "      <td>NaN</td>\n",
       "      <td>...</td>\n",
       "      <td>False</td>\n",
       "      <td>False</td>\n",
       "      <td>low</td>\n",
       "      <td>en</td>\n",
       "      <td>2020-04-12 18:27:25.753</td>\n",
       "      <td>NaN</td>\n",
       "      <td>NaN</td>\n",
       "      <td>NaN</td>\n",
       "      <td>NaN</td>\n",
       "      <td>NaN</td>\n",
       "    </tr>\n",
       "    <tr>\n",
       "      <th>2</th>\n",
       "      <td>2020-04-12 18:27:26+00:00</td>\n",
       "      <td>1249403769193779202</td>\n",
       "      <td>1249403769193779200</td>\n",
       "      <td>RT @umesh_agr: Thank You Sir !!\\nReally thankf...</td>\n",
       "      <td>&lt;a href=\"http://twitter.com/download/android\" ...</td>\n",
       "      <td>False</td>\n",
       "      <td>NaN</td>\n",
       "      <td>NaN</td>\n",
       "      <td>NaN</td>\n",
       "      <td>NaN</td>\n",
       "      <td>...</td>\n",
       "      <td>False</td>\n",
       "      <td>False</td>\n",
       "      <td>low</td>\n",
       "      <td>en</td>\n",
       "      <td>2020-04-12 18:27:26.032</td>\n",
       "      <td>NaN</td>\n",
       "      <td>NaN</td>\n",
       "      <td>NaN</td>\n",
       "      <td>NaN</td>\n",
       "      <td>NaN</td>\n",
       "    </tr>\n",
       "    <tr>\n",
       "      <th>3</th>\n",
       "      <td>2020-04-12 18:27:26+00:00</td>\n",
       "      <td>1249403769567227906</td>\n",
       "      <td>1249403769567227904</td>\n",
       "      <td>RT @meysimek: Turkey is so stubborn to change ...</td>\n",
       "      <td>&lt;a href=\"http://twitter.com/download/android\" ...</td>\n",
       "      <td>False</td>\n",
       "      <td>NaN</td>\n",
       "      <td>NaN</td>\n",
       "      <td>NaN</td>\n",
       "      <td>NaN</td>\n",
       "      <td>...</td>\n",
       "      <td>False</td>\n",
       "      <td>False</td>\n",
       "      <td>low</td>\n",
       "      <td>en</td>\n",
       "      <td>2020-04-12 18:27:26.121</td>\n",
       "      <td>NaN</td>\n",
       "      <td>NaN</td>\n",
       "      <td>NaN</td>\n",
       "      <td>NaN</td>\n",
       "      <td>NaN</td>\n",
       "    </tr>\n",
       "    <tr>\n",
       "      <th>4</th>\n",
       "      <td>2020-04-12 18:27:26+00:00</td>\n",
       "      <td>1249403770435493888</td>\n",
       "      <td>1249403770435493888</td>\n",
       "      <td>RT @biannagolodryga: This image.\\nThis quote.\\...</td>\n",
       "      <td>&lt;a href=\"https://mobile.twitter.com\" rel=\"nofo...</td>\n",
       "      <td>False</td>\n",
       "      <td>NaN</td>\n",
       "      <td>NaN</td>\n",
       "      <td>NaN</td>\n",
       "      <td>NaN</td>\n",
       "      <td>...</td>\n",
       "      <td>False</td>\n",
       "      <td>False</td>\n",
       "      <td>low</td>\n",
       "      <td>en</td>\n",
       "      <td>2020-04-12 18:27:26.328</td>\n",
       "      <td>NaN</td>\n",
       "      <td>NaN</td>\n",
       "      <td>NaN</td>\n",
       "      <td>NaN</td>\n",
       "      <td>NaN</td>\n",
       "    </tr>\n",
       "  </tbody>\n",
       "</table>\n",
       "<p>5 rows × 37 columns</p>\n",
       "</div>"
      ],
      "text/plain": [
       "                 created_at                   id               id_str  \\\n",
       "0 2020-04-12 18:27:25+00:00  1249403767180668930  1249403767180668928   \n",
       "1 2020-04-12 18:27:25+00:00  1249403768023678982  1249403768023678976   \n",
       "2 2020-04-12 18:27:26+00:00  1249403769193779202  1249403769193779200   \n",
       "3 2020-04-12 18:27:26+00:00  1249403769567227906  1249403769567227904   \n",
       "4 2020-04-12 18:27:26+00:00  1249403770435493888  1249403770435493888   \n",
       "\n",
       "                                                text  \\\n",
       "0  RT @nuffsaidny: wishing death on people is wei...   \n",
       "1  RT @lale_karanfil: In Turkey, there are 300 th...   \n",
       "2  RT @umesh_agr: Thank You Sir !!\\nReally thankf...   \n",
       "3  RT @meysimek: Turkey is so stubborn to change ...   \n",
       "4  RT @biannagolodryga: This image.\\nThis quote.\\...   \n",
       "\n",
       "                                              source  truncated  \\\n",
       "0  <a href=\"http://twitter.com/download/iphone\" r...      False   \n",
       "1  <a href=\"https://mobile.twitter.com\" rel=\"nofo...      False   \n",
       "2  <a href=\"http://twitter.com/download/android\" ...      False   \n",
       "3  <a href=\"http://twitter.com/download/android\" ...      False   \n",
       "4  <a href=\"https://mobile.twitter.com\" rel=\"nofo...      False   \n",
       "\n",
       "   in_reply_to_status_id  in_reply_to_status_id_str  in_reply_to_user_id  \\\n",
       "0                    NaN                        NaN                  NaN   \n",
       "1                    NaN                        NaN                  NaN   \n",
       "2                    NaN                        NaN                  NaN   \n",
       "3                    NaN                        NaN                  NaN   \n",
       "4                    NaN                        NaN                  NaN   \n",
       "\n",
       "   in_reply_to_user_id_str  ... favorited retweeted filter_level lang  \\\n",
       "0                      NaN  ...     False     False          low   en   \n",
       "1                      NaN  ...     False     False          low   en   \n",
       "2                      NaN  ...     False     False          low   en   \n",
       "3                      NaN  ...     False     False          low   en   \n",
       "4                      NaN  ...     False     False          low   en   \n",
       "\n",
       "             timestamp_ms  display_text_range extended_tweet  \\\n",
       "0 2020-04-12 18:27:25.552                 NaN            NaN   \n",
       "1 2020-04-12 18:27:25.753                 NaN            NaN   \n",
       "2 2020-04-12 18:27:26.032                 NaN            NaN   \n",
       "3 2020-04-12 18:27:26.121                 NaN            NaN   \n",
       "4 2020-04-12 18:27:26.328                 NaN            NaN   \n",
       "\n",
       "   possibly_sensitive  extended_entities withheld_in_countries  \n",
       "0                 NaN                NaN                   NaN  \n",
       "1                 NaN                NaN                   NaN  \n",
       "2                 NaN                NaN                   NaN  \n",
       "3                 NaN                NaN                   NaN  \n",
       "4                 NaN                NaN                   NaN  \n",
       "\n",
       "[5 rows x 37 columns]"
      ]
     },
     "execution_count": 5,
     "metadata": {},
     "output_type": "execute_result"
    }
   ],
   "source": [
    "twitter_data.head()"
   ]
  },
  {
   "cell_type": "code",
   "execution_count": 6,
   "id": "ac365919",
   "metadata": {},
   "outputs": [
    {
     "name": "stdout",
     "output_type": "stream",
     "text": [
      "<class 'pandas.core.frame.DataFrame'>\n",
      "Int64Index: 120434 entries, 0 to 101915\n",
      "Data columns (total 37 columns):\n",
      " #   Column                     Non-Null Count   Dtype              \n",
      "---  ------                     --------------   -----              \n",
      " 0   created_at                 120434 non-null  datetime64[ns, UTC]\n",
      " 1   id                         120434 non-null  int64              \n",
      " 2   id_str                     120434 non-null  int64              \n",
      " 3   text                       120434 non-null  object             \n",
      " 4   source                     120434 non-null  object             \n",
      " 5   truncated                  120434 non-null  bool               \n",
      " 6   in_reply_to_status_id      16138 non-null   float64            \n",
      " 7   in_reply_to_status_id_str  16138 non-null   float64            \n",
      " 8   in_reply_to_user_id        17589 non-null   float64            \n",
      " 9   in_reply_to_user_id_str    17589 non-null   float64            \n",
      " 10  in_reply_to_screen_name    17589 non-null   object             \n",
      " 11  user                       120434 non-null  object             \n",
      " 12  geo                        90 non-null      object             \n",
      " 13  coordinates                90 non-null      object             \n",
      " 14  place                      1644 non-null    object             \n",
      " 15  contributors               0 non-null       float64            \n",
      " 16  retweeted_status           72260 non-null   object             \n",
      " 17  quoted_status_id           19142 non-null   float64            \n",
      " 18  quoted_status_id_str       19142 non-null   float64            \n",
      " 19  quoted_status              19117 non-null   object             \n",
      " 20  quoted_status_permalink    19117 non-null   object             \n",
      " 21  is_quote_status            120434 non-null  bool               \n",
      " 22  quote_count                120434 non-null  int64              \n",
      " 23  reply_count                120434 non-null  int64              \n",
      " 24  retweet_count              120434 non-null  int64              \n",
      " 25  favorite_count             120434 non-null  int64              \n",
      " 26  entities                   120434 non-null  object             \n",
      " 27  favorited                  120434 non-null  bool               \n",
      " 28  retweeted                  120434 non-null  bool               \n",
      " 29  filter_level               120434 non-null  object             \n",
      " 30  lang                       120434 non-null  object             \n",
      " 31  timestamp_ms               120434 non-null  datetime64[ns]     \n",
      " 32  display_text_range         21307 non-null   object             \n",
      " 33  extended_tweet             20672 non-null   object             \n",
      " 34  possibly_sensitive         30882 non-null   float64            \n",
      " 35  extended_entities          8351 non-null    object             \n",
      " 36  withheld_in_countries      127 non-null     object             \n",
      "dtypes: bool(4), datetime64[ns, UTC](1), datetime64[ns](1), float64(8), int64(6), object(17)\n",
      "memory usage: 31.7+ MB\n"
     ]
    }
   ],
   "source": [
    "twitter_data.info()"
   ]
  },
  {
   "cell_type": "code",
   "execution_count": 7,
   "id": "db07a55f",
   "metadata": {},
   "outputs": [],
   "source": [
    "#Count the total number of unique users\n",
    "twitter_data[\"user_id\"] = twitter_data[\"user\"].apply(lambda x: x[\"id\"])"
   ]
  },
  {
   "cell_type": "code",
   "execution_count": 8,
   "id": "b45a713e",
   "metadata": {},
   "outputs": [],
   "source": [
    "num_users = len(twitter_data[\"user_id\"].unique())"
   ]
  },
  {
   "cell_type": "code",
   "execution_count": 9,
   "id": "1382c74d",
   "metadata": {},
   "outputs": [
    {
     "data": {
      "text/plain": [
       "95654"
      ]
     },
     "execution_count": 9,
     "metadata": {},
     "output_type": "execute_result"
    }
   ],
   "source": [
    "num_users"
   ]
  },
  {
   "cell_type": "code",
   "execution_count": 10,
   "id": "cbce3901",
   "metadata": {},
   "outputs": [],
   "source": [
    "# Displaying the top 5 most common hashtags\n",
    "hashtags = twitter_data[\"entities\"].apply(\n",
    "    lambda x: [tag[\"text\"].lower() for tag in x[\"hashtags\"]])"
   ]
  },
  {
   "cell_type": "code",
   "execution_count": 11,
   "id": "340aabe7",
   "metadata": {},
   "outputs": [],
   "source": [
    "hashtags = hashtags.explode()"
   ]
  },
  {
   "cell_type": "code",
   "execution_count": 12,
   "id": "5272672d",
   "metadata": {},
   "outputs": [
    {
     "name": "stdout",
     "output_type": "stream",
     "text": [
      "corona         6950\n",
      "25aprile       1557\n",
      "mattarella     1507\n",
      "coronavirus    1458\n",
      "covid19        1407\n",
      "Name: entities, dtype: int64\n"
     ]
    }
   ],
   "source": [
    "print(hashtags.value_counts().head())"
   ]
  },
  {
   "cell_type": "code",
   "execution_count": 13,
   "id": "a6e4a289",
   "metadata": {},
   "outputs": [
    {
     "name": "stdout",
     "output_type": "stream",
     "text": [
      "Average Sentiment Polarity: 0.024954999923896336\n"
     ]
    }
   ],
   "source": [
    "# We can perform a mean sentiment analysis where the 1 would stand for positive and -1 would\n",
    "# stand for negative text.\n",
    "\n",
    "# Define a function to get the sentiment polarity of a tweet\n",
    "def get_tweet_sentiment(tweet):\n",
    "    analysis = TextBlob(tweet)\n",
    "    return analysis.sentiment.polarity\n",
    "\n",
    "# Apply the function to the tweet text column\n",
    "twitter_data['sentiment_polarity'] = twitter_data['text'].apply(get_tweet_sentiment)\n",
    "\n",
    "# Print the average sentiment polarity of the tweets\n",
    "print('Average Sentiment Polarity:', twitter_data['sentiment_polarity'].mean())"
   ]
  },
  {
   "cell_type": "code",
   "execution_count": 14,
   "id": "6e775789",
   "metadata": {},
   "outputs": [
    {
     "data": {
      "image/png": "[encoded data removed]",
      "text/plain": [
       "<Figure size 1000x500 with 1 Axes>"
      ]
     },
     "metadata": {},
     "output_type": "display_data"
    }
   ],
   "source": [
    "# Plotting the top 10 most common languages used for tweeting.\n",
    "language_count = twitter_data[\"lang\"].value_counts().head(10)\n",
    "\n",
    "fig, ax = plt.subplots(figsize=(10, 5))\n",
    "ax.bar(language_count.index, language_count.values)\n",
    "ax.set_title(\"Language Count\")\n",
    "ax.set_xlabel(\"Language\")\n",
    "ax.set_ylabel(\"Count\")\n",
    "\n",
    "plt.show()"
   ]
  },
  {
   "cell_type": "code",
   "execution_count": 15,
   "id": "d9205bb2",
   "metadata": {},
   "outputs": [
    {
     "name": "stdout",
     "output_type": "stream",
     "text": [
      "created_at\n",
      "2020-04-12     18518\n",
      "2020-04-25    101916\n",
      "dtype: int64\n"
     ]
    }
   ],
   "source": [
    "#Number of tweets in both the days for which the data has been given to us.\n",
    "tweets_per_day = twitter_data.groupby(twitter_data[\"created_at\"].dt.date).size()\n",
    "print(tweets_per_day)"
   ]
  },
  {
   "cell_type": "code",
   "execution_count": 16,
   "id": "129d55b8",
   "metadata": {},
   "outputs": [
    {
     "name": "stdout",
     "output_type": "stream",
     "text": [
      "[('rt', 72629), ('corona', 72462), ('t', 51762), ('https', 48294), ('co', 47304), ('the', 30242), ('in', 21296), ('to', 20774), ('a', 18176), ('is', 16498)]\n"
     ]
    }
   ],
   "source": [
    "# Most common words in a tweet\n",
    "\n",
    "# Define a function to extract words from a tweet\n",
    "def extract_words(text):\n",
    "    words = re.findall(r'\\w+', text.lower())\n",
    "    return Counter(words)\n",
    "\n",
    "# Extract the words from all the tweets\n",
    "words = Counter()\n",
    "for tweet in twitter_data[\"text\"]:\n",
    "    words.update(extract_words(tweet))\n",
    "\n",
    "# Print the top 10 most common words\n",
    "print(words.most_common(10))"
   ]
  },
  {
   "cell_type": "code",
   "execution_count": 17,
   "id": "d2804723",
   "metadata": {},
   "outputs": [],
   "source": [
    "# Create a function to categorize each tweet\n",
    "def categorize_tweet(row):\n",
    "    if isinstance(row['retweeted_status'], dict):\n",
    "        return 'Retweet'\n",
    "    elif isinstance(row['quoted_status'], dict):\n",
    "        return 'Quoted Tweet'\n",
    "    else:\n",
    "        return 'Original Tweet'\n",
    "\n",
    "# Apply the categorize_tweet function to each row of the DataFrame\n",
    "twitter_data['tweet_type'] = twitter_data.apply(categorize_tweet, axis=1)"
   ]
  },
  {
   "cell_type": "code",
   "execution_count": 49,
   "id": "fdccbd7c",
   "metadata": {},
   "outputs": [
    {
     "data": {
      "image/png": "[encoded data removed]",
      "text/plain": [
       "<Figure size 640x480 with 1 Axes>"
      ]
     },
     "metadata": {},
     "output_type": "display_data"
    }
   ],
   "source": [
    "# Count the number of tweets for each tweet type\n",
    "tweet_counts = twitter_data['tweet_type'].value_counts()\n",
    "\n",
    "# Create a pie chart showing the proportion of each tweet type\n",
    "plt.pie(tweet_counts, labels=tweet_counts.index, autopct='%1.1f%%', startangle=90)\n",
    "\n",
    "# Add a title\n",
    "plt.title('Proportion of Tweet Types')\n",
    "\n",
    "# Display the plot\n",
    "plt.show()"
   ]
  },
  {
   "cell_type": "code",
   "execution_count": null,
   "id": "654c3fd2",
   "metadata": {},
   "outputs": [],
   "source": [
    "#Find the top 10 most mentioned users in the tweets."
   ]
  },
  {
   "cell_type": "code",
   "execution_count": 20,
   "id": "cb5f8499",
   "metadata": {},
   "outputs": [],
   "source": [
    "# extract usernames from the text column using regex\n",
    "usernames = twitter_data['text'].apply(lambda x: re.findall(r'(?<!\\w)@\\w+', x))"
   ]
  },
  {
   "cell_type": "code",
   "execution_count": 21,
   "id": "91ca7729",
   "metadata": {},
   "outputs": [],
   "source": [
    "# flatten the list of usernames and count their frequency\n",
    "mentions_count = pd.Series([u for sublist in usernames for u in sublist]).value_counts()"
   ]
  },
  {
   "cell_type": "code",
   "execution_count": 22,
   "id": "2d5c9fed",
   "metadata": {},
   "outputs": [
    {
     "name": "stdout",
     "output_type": "stream",
     "text": [
      "@brithume           1496\n",
      "@Quirinale          1465\n",
      "@benwikler           987\n",
      "@oxfara              846\n",
      "@realDonaldTrump     817\n",
      "@yalim_funda         734\n",
      "@narendramodi        709\n",
      "@aajtak              656\n",
      "@CrazyinRussia       587\n",
      "@IngrahamAngle       559\n",
      "dtype: int64\n"
     ]
    }
   ],
   "source": [
    "# get the top 10 most mentioned users\n",
    "top_mentions = mentions_count.head(10)\n",
    "\n",
    "# print the top 10 most mentioned users\n",
    "print(top_mentions)"
   ]
  },
  {
   "cell_type": "code",
   "execution_count": 23,
   "id": "e034be44",
   "metadata": {},
   "outputs": [],
   "source": [
    "# Convert the 'created_at' column to a datetime object\n",
    "twitter_data['created_at'] = pd.to_datetime(twitter_data['created_at'])\n"
   ]
  },
  {
   "cell_type": "code",
   "execution_count": 24,
   "id": "d22c98da",
   "metadata": {},
   "outputs": [],
   "source": [
    "# Set the 'created_at' column as the index\n",
    "twitter_data.set_index('created_at', inplace=True)"
   ]
  },
  {
   "cell_type": "code",
   "execution_count": 25,
   "id": "3e863185",
   "metadata": {},
   "outputs": [
    {
     "data": {
      "image/png": "[encoded data removed]",
      "text/plain": [
       "<Figure size 1200x600 with 1 Axes>"
      ]
     },
     "metadata": {},
     "output_type": "display_data"
    }
   ],
   "source": [
    "# Resample the data by day and count the number of tweets in each day\n",
    "daily_counts = twitter_data.resample('D').size()\n",
    "\n",
    "# Plot the daily tweet counts over time\n",
    "fig, ax = plt.subplots(figsize=(12, 6))\n",
    "ax.plot(daily_counts.index, daily_counts.values)\n",
    "ax.set(xlabel='Date', ylabel='Number of Tweets', title='Daily Tweet Counts')\n",
    "plt.show()"
   ]
  },
  {
   "cell_type": "code",
   "execution_count": null,
   "id": "8b6fc113",
   "metadata": {},
   "outputs": [],
   "source": []
  }
 ],
 "metadata": {
  "kernelspec": {
   "display_name": "Python 3 (ipykernel)",
   "language": "python",
   "name": "python3"
  },
  "language_info": {
   "codemirror_mode": {
    "name": "ipython",
    "version": 3
   },
   "file_extension": ".py",
   "mimetype": "text/x-python",
   "name": "python",
   "nbconvert_exporter": "python",
   "pygments_lexer": "ipython3",
   "version": "3.9.13"
  }
 },
 "nbformat": 4,
 "nbformat_minor": 5
}
